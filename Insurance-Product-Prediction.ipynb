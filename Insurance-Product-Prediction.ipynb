{
 "cells": [
  {
   "cell_type": "markdown",
   "metadata": {},
   "source": [
    "# INSURANCE PRODUCT PREDICTION IN NAKURU\n",
    "\n",
    "##### Objective\n",
    "This project aims to predict which clusters in Nakuru County would likely buy which insurance products. <br>\n",
    "Its main objective is to aid insurance companies tailor their product marketing and advertising appropriately to groups most likely to buy them, increasing the probability of a sale.\n",
    "\n",
    "##### Dataset\n",
    "The dataset used for this project is the Kenya Financial Access Dataset 2021 from the Kenya National Bureau of Statistics.<br> The dataset is very big containing over 2000 columns.<br> To ensure only reliable attributes are used, the main dataframe used for this project is a sample from the original data.\n",
    "\n",
    "##### Attributes\n",
    "- HHNo - House Hold Number\n",
    "- area - Area of residence(Urban/Rural)\n",
    "- age_of_respondent - Age of Questionnaire Respondent\n",
    "- chronic_illness - prence of chronically ill person in the house hold\n",
    "- nhif_usage - Whether the house hold has ever/currently use NHIF\n",
    "- nssf_usage -  Whether the house hold has ever/curently use NSSF\n",
    "- most_important_life_goal - Main goal of the house hold\n",
    "- income_source - Main income source of the house hold\n",
    "- total_exp_per_month - Total monthly expenditure of the house hold\n",
    "- avg_mnth_income - Average monthly income of the house hold\n",
    "- hse_land_loan - Taken a loan to purchase house or land\n",
    "- insurance_usage, insurance_usage1, and insurance_usage2 - Usage of differnet insurance products(was not specific)\n",
    "- securities_use - Has invested in securities(Green Bond, Treasury Bill, M-Akiba)\n",
    "- nearest_financial_prod - Nearest financial product(Bank, Sacco, Insurance, etc) \n",
    "- TV_and_decoder - Owns a TV and Decoder\n",
    "- internet_TV - Owns an internet TV\n",
    "- mobile_phone - Owns a mobile phone\n",
    "- fixed_internet - Has fixed internet \n",
    "- computer - Owns a computer\n",
    "- refrigerator - Owns a refrigerator\n",
    "- motorcycle - Owns a motorcycle\n",
    "- car - Owns a car\n",
    "- bus_lorry - Owns a bus or lorry\n",
    "- motorboat - Owns a motorboat\n",
    "- tuktuk - Owns a tuktuk\n",
    "- tractor - Owns a tractor\n",
    "- dairy_cattle - Rears dairy cattle\n",
    "- beef_cattle - Rears beef cattle\n",
    "- indigenous_cattle - Rears indigenous cattle\n",
    "- sheep - Rears Sheep\n",
    "- goats - Rears goats\n",
    "- land_house_ownership - Owns land or a house\n"
   ]
  },
  {
   "cell_type": "markdown",
   "metadata": {},
   "source": [
    "### Imports"
   ]
  },
  {
   "cell_type": "code",
   "execution_count": 2,
   "metadata": {},
   "outputs": [],
   "source": [
    "#imports\n",
    "import numpy as np\n",
    "import pandas as pd\n",
    "import matplotlib.pyplot as plt\n",
    "import seaborn as sns\n",
    "import plotly.express as px\n",
    "import shap\n",
    "import lightgbm as lgb\n",
    "import joblib\n",
    "import os\n",
    "import contextlib\n",
    "\n",
    "\n",
    "from sklearn.cluster import AgglomerativeClustering\n",
    "from sklearn.preprocessing import StandardScaler, OneHotEncoder\n",
    "from sklearn.impute import SimpleImputer\n",
    "from sklearn.metrics import silhouette_score\n",
    "from sklearn.model_selection import cross_val_score\n",
    "from scipy.cluster.hierarchy import linkage, cut_tree, dendrogram\n",
    "from kmodes.kprototypes import KPrototypes\n",
    "from lightgbm import LGBMClassifier \n",
    "\n"
   ]
  },
  {
   "cell_type": "markdown",
   "metadata": {},
   "source": [
    "### Data Loading"
   ]
  },
  {
   "cell_type": "code",
   "execution_count": 2,
   "metadata": {},
   "outputs": [
    {
     "data": {
      "text/html": [
       "<div>\n",
       "<style scoped>\n",
       "    .dataframe tbody tr th:only-of-type {\n",
       "        vertical-align: middle;\n",
       "    }\n",
       "\n",
       "    .dataframe tbody tr th {\n",
       "        vertical-align: top;\n",
       "    }\n",
       "\n",
       "    .dataframe thead th {\n",
       "        text-align: right;\n",
       "    }\n",
       "</style>\n",
       "<table border=\"1\" class=\"dataframe\">\n",
       "  <thead>\n",
       "    <tr style=\"text-align: right;\">\n",
       "      <th></th>\n",
       "      <th>Serial Number</th>\n",
       "      <th>County</th>\n",
       "      <th>ClusterNo</th>\n",
       "      <th>HHNo</th>\n",
       "      <th>interview__key</th>\n",
       "      <th>interview__id</th>\n",
       "      <th>A9</th>\n",
       "      <th>A9i</th>\n",
       "      <th>A10i</th>\n",
       "      <th>A14v</th>\n",
       "      <th>...</th>\n",
       "      <th>allotherformal_banked2022</th>\n",
       "      <th>formal_banked2022</th>\n",
       "      <th>excluded_informal_banked2022</th>\n",
       "      <th>NHIF_health_insurance</th>\n",
       "      <th>NHIF_ONLY</th>\n",
       "      <th>Medical_Insurance_ONLY</th>\n",
       "      <th>BothNHIF_medical</th>\n",
       "      <th>Nomedical</th>\n",
       "      <th>NHIFMedical_Cat</th>\n",
       "      <th>adults</th>\n",
       "    </tr>\n",
       "  </thead>\n",
       "  <tbody>\n",
       "    <tr>\n",
       "      <th>0</th>\n",
       "      <td>1</td>\n",
       "      <td>Trans Nzoia</td>\n",
       "      <td>10226038</td>\n",
       "      <td>1048</td>\n",
       "      <td>10-67-89-46</td>\n",
       "      <td>0003fc74b3fe418ea041bd6a9e7ff387</td>\n",
       "      <td>Rural</td>\n",
       "      <td>Access granted</td>\n",
       "      <td>Female</td>\n",
       "      <td>1</td>\n",
       "      <td>...</td>\n",
       "      <td>Yes</td>\n",
       "      <td>No</td>\n",
       "      <td>Other Formal</td>\n",
       "      <td>Yes</td>\n",
       "      <td>NaN</td>\n",
       "      <td>NaN</td>\n",
       "      <td>1.0</td>\n",
       "      <td>NaN</td>\n",
       "      <td>Users of NHIF + medical insurance (C1_42 and C...</td>\n",
       "      <td>1 adult Household</td>\n",
       "    </tr>\n",
       "    <tr>\n",
       "      <th>1</th>\n",
       "      <td>2</td>\n",
       "      <td>Busia</td>\n",
       "      <td>10240034</td>\n",
       "      <td>1080</td>\n",
       "      <td>39-64-68-81</td>\n",
       "      <td>0004890b17744272baf0a0c7b4c20771</td>\n",
       "      <td>Rural</td>\n",
       "      <td>Access granted</td>\n",
       "      <td>Female</td>\n",
       "      <td>4</td>\n",
       "      <td>...</td>\n",
       "      <td>No</td>\n",
       "      <td>Yes</td>\n",
       "      <td>Banked</td>\n",
       "      <td>Yes</td>\n",
       "      <td>1.0</td>\n",
       "      <td>NaN</td>\n",
       "      <td>NaN</td>\n",
       "      <td>NaN</td>\n",
       "      <td>Users of NHIF only, with no medical insurance</td>\n",
       "      <td>&gt;1 adult Household</td>\n",
       "    </tr>\n",
       "    <tr>\n",
       "      <th>2</th>\n",
       "      <td>3</td>\n",
       "      <td>Machakos</td>\n",
       "      <td>10216062</td>\n",
       "      <td>1013</td>\n",
       "      <td>92-34-74-01</td>\n",
       "      <td>00052153fe8c4abaa189caadcb87b2b4</td>\n",
       "      <td>Rural</td>\n",
       "      <td>Access granted</td>\n",
       "      <td>Male</td>\n",
       "      <td>1</td>\n",
       "      <td>...</td>\n",
       "      <td>No</td>\n",
       "      <td>No</td>\n",
       "      <td>Excluded</td>\n",
       "      <td>Yes</td>\n",
       "      <td>1.0</td>\n",
       "      <td>NaN</td>\n",
       "      <td>NaN</td>\n",
       "      <td>NaN</td>\n",
       "      <td>Users of NHIF only, with no medical insurance</td>\n",
       "      <td>1 adult Household</td>\n",
       "    </tr>\n",
       "    <tr>\n",
       "      <th>3</th>\n",
       "      <td>4</td>\n",
       "      <td>Kisumu</td>\n",
       "      <td>10242078</td>\n",
       "      <td>1026</td>\n",
       "      <td>08-14-22-63</td>\n",
       "      <td>000d1f8747194b6a84862830dc5fe7ca</td>\n",
       "      <td>Rural</td>\n",
       "      <td>Access granted</td>\n",
       "      <td>Male</td>\n",
       "      <td>5</td>\n",
       "      <td>...</td>\n",
       "      <td>No</td>\n",
       "      <td>Yes</td>\n",
       "      <td>Banked</td>\n",
       "      <td>No</td>\n",
       "      <td>NaN</td>\n",
       "      <td>NaN</td>\n",
       "      <td>NaN</td>\n",
       "      <td>Users of NHIF only, with no medical insurance</td>\n",
       "      <td>None users of any of NHIF and medical insurance</td>\n",
       "      <td>&gt;1 adult Household</td>\n",
       "    </tr>\n",
       "    <tr>\n",
       "      <th>4</th>\n",
       "      <td>5</td>\n",
       "      <td>Nyeri</td>\n",
       "      <td>10219138</td>\n",
       "      <td>1019</td>\n",
       "      <td>99-12-05-84</td>\n",
       "      <td>000f5a5c0e3246ac9a62603ad936e3da</td>\n",
       "      <td>Urban</td>\n",
       "      <td>Access granted</td>\n",
       "      <td>Male</td>\n",
       "      <td>3</td>\n",
       "      <td>...</td>\n",
       "      <td>No</td>\n",
       "      <td>Yes</td>\n",
       "      <td>Banked</td>\n",
       "      <td>No</td>\n",
       "      <td>NaN</td>\n",
       "      <td>NaN</td>\n",
       "      <td>NaN</td>\n",
       "      <td>Users of NHIF only, with no medical insurance</td>\n",
       "      <td>None users of any of NHIF and medical insurance</td>\n",
       "      <td>&gt;1 adult Household</td>\n",
       "    </tr>\n",
       "  </tbody>\n",
       "</table>\n",
       "<p>5 rows × 2332 columns</p>\n",
       "</div>"
      ],
      "text/plain": [
       "   Serial Number       County  ClusterNo  HHNo interview__key  \\\n",
       "0              1  Trans Nzoia   10226038  1048    10-67-89-46   \n",
       "1              2        Busia   10240034  1080    39-64-68-81   \n",
       "2              3     Machakos   10216062  1013    92-34-74-01   \n",
       "3              4       Kisumu   10242078  1026    08-14-22-63   \n",
       "4              5        Nyeri   10219138  1019    99-12-05-84   \n",
       "\n",
       "                      interview__id     A9             A9i    A10i  A14v  ...  \\\n",
       "0  0003fc74b3fe418ea041bd6a9e7ff387  Rural  Access granted  Female     1  ...   \n",
       "1  0004890b17744272baf0a0c7b4c20771  Rural  Access granted  Female     4  ...   \n",
       "2  00052153fe8c4abaa189caadcb87b2b4  Rural  Access granted    Male     1  ...   \n",
       "3  000d1f8747194b6a84862830dc5fe7ca  Rural  Access granted    Male     5  ...   \n",
       "4  000f5a5c0e3246ac9a62603ad936e3da  Urban  Access granted    Male     3  ...   \n",
       "\n",
       "   allotherformal_banked2022 formal_banked2022 excluded_informal_banked2022  \\\n",
       "0                        Yes                No                 Other Formal   \n",
       "1                         No               Yes                       Banked   \n",
       "2                         No                No                     Excluded   \n",
       "3                         No               Yes                       Banked   \n",
       "4                         No               Yes                       Banked   \n",
       "\n",
       "   NHIF_health_insurance NHIF_ONLY  Medical_Insurance_ONLY BothNHIF_medical  \\\n",
       "0                    Yes       NaN                     NaN              1.0   \n",
       "1                    Yes       1.0                     NaN              NaN   \n",
       "2                    Yes       1.0                     NaN              NaN   \n",
       "3                     No       NaN                     NaN              NaN   \n",
       "4                     No       NaN                     NaN              NaN   \n",
       "\n",
       "                                       Nomedical  \\\n",
       "0                                            NaN   \n",
       "1                                            NaN   \n",
       "2                                            NaN   \n",
       "3  Users of NHIF only, with no medical insurance   \n",
       "4  Users of NHIF only, with no medical insurance   \n",
       "\n",
       "                                     NHIFMedical_Cat              adults  \n",
       "0  Users of NHIF + medical insurance (C1_42 and C...   1 adult Household  \n",
       "1      Users of NHIF only, with no medical insurance  >1 adult Household  \n",
       "2      Users of NHIF only, with no medical insurance   1 adult Household  \n",
       "3    None users of any of NHIF and medical insurance  >1 adult Household  \n",
       "4    None users of any of NHIF and medical insurance  >1 adult Household  \n",
       "\n",
       "[5 rows x 2332 columns]"
      ]
     },
     "execution_count": 2,
     "metadata": {},
     "output_type": "execute_result"
    }
   ],
   "source": [
    "#load data\n",
    "df_samples = pd.read_excel('Updated Anonymized Weighted FinAccess 2021.xlsx')\n",
    "df_samples.head()"
   ]
  },
  {
   "cell_type": "markdown",
   "metadata": {},
   "source": [
    "### Data Preparation"
   ]
  },
  {
   "cell_type": "code",
   "execution_count": 3,
   "metadata": {},
   "outputs": [
    {
     "name": "stdout",
     "output_type": "stream",
     "text": [
      "<class 'pandas.core.frame.DataFrame'>\n",
      "Index: 805 entries, 48 to 22019\n",
      "Columns: 2332 entries, Serial Number to adults\n",
      "dtypes: float64(206), int64(76), object(2050)\n",
      "memory usage: 14.3+ MB\n"
     ]
    }
   ],
   "source": [
    "#select data from nakuru county\n",
    "\n",
    "nakuru  = df_samples[df_samples['County'] == 'Nakuru']\n",
    "nakuru.info()"
   ]
  },
  {
   "cell_type": "code",
   "execution_count": 4,
   "metadata": {},
   "outputs": [
    {
     "data": {
      "text/html": [
       "<div>\n",
       "<style scoped>\n",
       "    .dataframe tbody tr th:only-of-type {\n",
       "        vertical-align: middle;\n",
       "    }\n",
       "\n",
       "    .dataframe tbody tr th {\n",
       "        vertical-align: top;\n",
       "    }\n",
       "\n",
       "    .dataframe thead th {\n",
       "        text-align: right;\n",
       "    }\n",
       "</style>\n",
       "<table border=\"1\" class=\"dataframe\">\n",
       "  <thead>\n",
       "    <tr style=\"text-align: right;\">\n",
       "      <th></th>\n",
       "      <th>Serial Number</th>\n",
       "      <th>County</th>\n",
       "      <th>ClusterNo</th>\n",
       "      <th>HHNo</th>\n",
       "      <th>interview__key</th>\n",
       "      <th>interview__id</th>\n",
       "      <th>A9</th>\n",
       "      <th>A9i</th>\n",
       "      <th>A10i</th>\n",
       "      <th>A14v</th>\n",
       "      <th>...</th>\n",
       "      <th>allotherformal_banked2022</th>\n",
       "      <th>formal_banked2022</th>\n",
       "      <th>excluded_informal_banked2022</th>\n",
       "      <th>NHIF_health_insurance</th>\n",
       "      <th>NHIF_ONLY</th>\n",
       "      <th>Medical_Insurance_ONLY</th>\n",
       "      <th>BothNHIF_medical</th>\n",
       "      <th>Nomedical</th>\n",
       "      <th>NHIFMedical_Cat</th>\n",
       "      <th>adults</th>\n",
       "    </tr>\n",
       "  </thead>\n",
       "  <tbody>\n",
       "    <tr>\n",
       "      <th>48</th>\n",
       "      <td>49</td>\n",
       "      <td>Nakuru</td>\n",
       "      <td>10232202</td>\n",
       "      <td>1090</td>\n",
       "      <td>95-50-72-90</td>\n",
       "      <td>00a5d78402974eca9eb2f0e2bfb2df3b</td>\n",
       "      <td>Urban</td>\n",
       "      <td>Access granted</td>\n",
       "      <td>Female</td>\n",
       "      <td>5</td>\n",
       "      <td>...</td>\n",
       "      <td>No</td>\n",
       "      <td>No</td>\n",
       "      <td>Excluded</td>\n",
       "      <td>No</td>\n",
       "      <td>NaN</td>\n",
       "      <td>NaN</td>\n",
       "      <td>NaN</td>\n",
       "      <td>Users of NHIF only, with no medical insurance</td>\n",
       "      <td>None users of any of NHIF and medical insurance</td>\n",
       "      <td>&gt;1 adult Household</td>\n",
       "    </tr>\n",
       "    <tr>\n",
       "      <th>180</th>\n",
       "      <td>181</td>\n",
       "      <td>Nakuru</td>\n",
       "      <td>10232130</td>\n",
       "      <td>1067</td>\n",
       "      <td>37-30-21-49</td>\n",
       "      <td>0265fd66b5e249809eb93a6f242d1bfa</td>\n",
       "      <td>Urban</td>\n",
       "      <td>Access granted</td>\n",
       "      <td>Female</td>\n",
       "      <td>2</td>\n",
       "      <td>...</td>\n",
       "      <td>No</td>\n",
       "      <td>Yes</td>\n",
       "      <td>Banked</td>\n",
       "      <td>No</td>\n",
       "      <td>NaN</td>\n",
       "      <td>NaN</td>\n",
       "      <td>NaN</td>\n",
       "      <td>Users of NHIF only, with no medical insurance</td>\n",
       "      <td>None users of any of NHIF and medical insurance</td>\n",
       "      <td>&gt;1 adult Household</td>\n",
       "    </tr>\n",
       "    <tr>\n",
       "      <th>188</th>\n",
       "      <td>189</td>\n",
       "      <td>Nakuru</td>\n",
       "      <td>10232034</td>\n",
       "      <td>1012</td>\n",
       "      <td>76-74-21-49</td>\n",
       "      <td>0279d89f2bc4492db64a821d217afb8c</td>\n",
       "      <td>Rural</td>\n",
       "      <td>Access granted</td>\n",
       "      <td>Male</td>\n",
       "      <td>2</td>\n",
       "      <td>...</td>\n",
       "      <td>No</td>\n",
       "      <td>Yes</td>\n",
       "      <td>Banked</td>\n",
       "      <td>No</td>\n",
       "      <td>NaN</td>\n",
       "      <td>NaN</td>\n",
       "      <td>NaN</td>\n",
       "      <td>Users of NHIF only, with no medical insurance</td>\n",
       "      <td>None users of any of NHIF and medical insurance</td>\n",
       "      <td>&gt;1 adult Household</td>\n",
       "    </tr>\n",
       "    <tr>\n",
       "      <th>213</th>\n",
       "      <td>214</td>\n",
       "      <td>Nakuru</td>\n",
       "      <td>10232066</td>\n",
       "      <td>1032</td>\n",
       "      <td>46-66-78-61</td>\n",
       "      <td>02c2c43d1fd84b3ab574d312d2af93f7</td>\n",
       "      <td>Rural</td>\n",
       "      <td>Access granted</td>\n",
       "      <td>Male</td>\n",
       "      <td>2</td>\n",
       "      <td>...</td>\n",
       "      <td>No</td>\n",
       "      <td>Yes</td>\n",
       "      <td>Banked</td>\n",
       "      <td>No</td>\n",
       "      <td>NaN</td>\n",
       "      <td>NaN</td>\n",
       "      <td>NaN</td>\n",
       "      <td>Users of NHIF only, with no medical insurance</td>\n",
       "      <td>None users of any of NHIF and medical insurance</td>\n",
       "      <td>&gt;1 adult Household</td>\n",
       "    </tr>\n",
       "    <tr>\n",
       "      <th>227</th>\n",
       "      <td>228</td>\n",
       "      <td>Nakuru</td>\n",
       "      <td>10232214</td>\n",
       "      <td>1023</td>\n",
       "      <td>29-48-44-55</td>\n",
       "      <td>030ab71056c44f17a55bff4ae8a20c2f</td>\n",
       "      <td>Urban</td>\n",
       "      <td>Access granted</td>\n",
       "      <td>Male</td>\n",
       "      <td>2</td>\n",
       "      <td>...</td>\n",
       "      <td>No</td>\n",
       "      <td>Yes</td>\n",
       "      <td>Banked</td>\n",
       "      <td>No</td>\n",
       "      <td>NaN</td>\n",
       "      <td>NaN</td>\n",
       "      <td>NaN</td>\n",
       "      <td>Users of NHIF only, with no medical insurance</td>\n",
       "      <td>None users of any of NHIF and medical insurance</td>\n",
       "      <td>&gt;1 adult Household</td>\n",
       "    </tr>\n",
       "  </tbody>\n",
       "</table>\n",
       "<p>5 rows × 2332 columns</p>\n",
       "</div>"
      ],
      "text/plain": [
       "     Serial Number  County  ClusterNo  HHNo interview__key  \\\n",
       "48              49  Nakuru   10232202  1090    95-50-72-90   \n",
       "180            181  Nakuru   10232130  1067    37-30-21-49   \n",
       "188            189  Nakuru   10232034  1012    76-74-21-49   \n",
       "213            214  Nakuru   10232066  1032    46-66-78-61   \n",
       "227            228  Nakuru   10232214  1023    29-48-44-55   \n",
       "\n",
       "                        interview__id     A9             A9i    A10i  A14v  \\\n",
       "48   00a5d78402974eca9eb2f0e2bfb2df3b  Urban  Access granted  Female     5   \n",
       "180  0265fd66b5e249809eb93a6f242d1bfa  Urban  Access granted  Female     2   \n",
       "188  0279d89f2bc4492db64a821d217afb8c  Rural  Access granted    Male     2   \n",
       "213  02c2c43d1fd84b3ab574d312d2af93f7  Rural  Access granted    Male     2   \n",
       "227  030ab71056c44f17a55bff4ae8a20c2f  Urban  Access granted    Male     2   \n",
       "\n",
       "     ...  allotherformal_banked2022 formal_banked2022  \\\n",
       "48   ...                         No                No   \n",
       "180  ...                         No               Yes   \n",
       "188  ...                         No               Yes   \n",
       "213  ...                         No               Yes   \n",
       "227  ...                         No               Yes   \n",
       "\n",
       "    excluded_informal_banked2022  NHIF_health_insurance NHIF_ONLY  \\\n",
       "48                      Excluded                     No       NaN   \n",
       "180                       Banked                     No       NaN   \n",
       "188                       Banked                     No       NaN   \n",
       "213                       Banked                     No       NaN   \n",
       "227                       Banked                     No       NaN   \n",
       "\n",
       "     Medical_Insurance_ONLY BothNHIF_medical  \\\n",
       "48                      NaN              NaN   \n",
       "180                     NaN              NaN   \n",
       "188                     NaN              NaN   \n",
       "213                     NaN              NaN   \n",
       "227                     NaN              NaN   \n",
       "\n",
       "                                         Nomedical  \\\n",
       "48   Users of NHIF only, with no medical insurance   \n",
       "180  Users of NHIF only, with no medical insurance   \n",
       "188  Users of NHIF only, with no medical insurance   \n",
       "213  Users of NHIF only, with no medical insurance   \n",
       "227  Users of NHIF only, with no medical insurance   \n",
       "\n",
       "                                     NHIFMedical_Cat              adults  \n",
       "48   None users of any of NHIF and medical insurance  >1 adult Household  \n",
       "180  None users of any of NHIF and medical insurance  >1 adult Household  \n",
       "188  None users of any of NHIF and medical insurance  >1 adult Household  \n",
       "213  None users of any of NHIF and medical insurance  >1 adult Household  \n",
       "227  None users of any of NHIF and medical insurance  >1 adult Household  \n",
       "\n",
       "[5 rows x 2332 columns]"
      ]
     },
     "execution_count": 4,
     "metadata": {},
     "output_type": "execute_result"
    }
   ],
   "source": [
    "nakuru.head()"
   ]
  },
  {
   "cell_type": "markdown",
   "metadata": {},
   "source": [
    "#### Data Cleaning and Preprocessing"
   ]
  },
  {
   "cell_type": "code",
   "execution_count": 5,
   "metadata": {},
   "outputs": [
    {
     "data": {
      "text/plain": [
       "Serial Number               0\n",
       "County                      0\n",
       "ClusterNo                   0\n",
       "HHNo                        0\n",
       "interview__key              0\n",
       "                         ... \n",
       "Medical_Insurance_ONLY    799\n",
       "BothNHIF_medical          802\n",
       "Nomedical                 214\n",
       "NHIFMedical_Cat             0\n",
       "adults                      0\n",
       "Length: 2332, dtype: int64"
      ]
     },
     "execution_count": 5,
     "metadata": {},
     "output_type": "execute_result"
    }
   ],
   "source": [
    "#check null values\n",
    "nakuru[nakuru.columns].isnull().sum()"
   ]
  },
  {
   "cell_type": "code",
   "execution_count": 6,
   "metadata": {},
   "outputs": [
    {
     "data": {
      "text/plain": [
       "Serial Number                   0\n",
       "County                          0\n",
       "ClusterNo                       0\n",
       "HHNo                            0\n",
       "interview__key                  0\n",
       "                               ..\n",
       "formal_banked2022               0\n",
       "excluded_informal_banked2022    0\n",
       "NHIF_health_insurance           0\n",
       "NHIFMedical_Cat                 0\n",
       "adults                          0\n",
       "Length: 777, dtype: int64"
      ]
     },
     "execution_count": 6,
     "metadata": {},
     "output_type": "execute_result"
    }
   ],
   "source": [
    "#drop columns with more than 3/4 of values missing\n",
    "threshold = len(nakuru) * 0.75\n",
    "\n",
    "nakuru = nakuru.dropna(thresh=threshold, axis=1)\n",
    "nakuru.isnull().sum()"
   ]
  },
  {
   "cell_type": "code",
   "execution_count": 7,
   "metadata": {},
   "outputs": [],
   "source": [
    "#reset index\n",
    "nakuru = nakuru.reset_index()\n",
    "nakuru.drop(columns='index', inplace=True)"
   ]
  },
  {
   "cell_type": "markdown",
   "metadata": {},
   "source": [
    "Select features to be used:"
   ]
  },
  {
   "cell_type": "code",
   "execution_count": 8,
   "metadata": {},
   "outputs": [
    {
     "data": {
      "text/html": [
       "<div>\n",
       "<style scoped>\n",
       "    .dataframe tbody tr th:only-of-type {\n",
       "        vertical-align: middle;\n",
       "    }\n",
       "\n",
       "    .dataframe tbody tr th {\n",
       "        vertical-align: top;\n",
       "    }\n",
       "\n",
       "    .dataframe thead th {\n",
       "        text-align: right;\n",
       "    }\n",
       "</style>\n",
       "<table border=\"1\" class=\"dataframe\">\n",
       "  <thead>\n",
       "    <tr style=\"text-align: right;\">\n",
       "      <th></th>\n",
       "      <th>HHNo</th>\n",
       "      <th>A9</th>\n",
       "      <th>A19</th>\n",
       "      <th>A24</th>\n",
       "      <th>nhif_usage</th>\n",
       "      <th>nssf_usage</th>\n",
       "      <th>insurance_usage</th>\n",
       "      <th>insurance_usage1</th>\n",
       "      <th>insurance_usage2</th>\n",
       "      <th>B1A</th>\n",
       "      <th>...</th>\n",
       "      <th>U16__14</th>\n",
       "      <th>U16__17</th>\n",
       "      <th>U16__18</th>\n",
       "      <th>U17i</th>\n",
       "      <th>U17ii</th>\n",
       "      <th>U17iii</th>\n",
       "      <th>U17iv</th>\n",
       "      <th>U17v</th>\n",
       "      <th>U19</th>\n",
       "      <th>U23</th>\n",
       "    </tr>\n",
       "  </thead>\n",
       "  <tbody>\n",
       "    <tr>\n",
       "      <th>0</th>\n",
       "      <td>1090</td>\n",
       "      <td>Urban</td>\n",
       "      <td>16</td>\n",
       "      <td>No</td>\n",
       "      <td>Never had</td>\n",
       "      <td>Never had</td>\n",
       "      <td>Never had</td>\n",
       "      <td>Never had</td>\n",
       "      <td>Never had</td>\n",
       "      <td>Educating yourself or your family</td>\n",
       "      <td>...</td>\n",
       "      <td>No</td>\n",
       "      <td>No</td>\n",
       "      <td>No</td>\n",
       "      <td>0</td>\n",
       "      <td>0</td>\n",
       "      <td>0</td>\n",
       "      <td>0</td>\n",
       "      <td>0</td>\n",
       "      <td>No</td>\n",
       "      <td>7000</td>\n",
       "    </tr>\n",
       "    <tr>\n",
       "      <th>1</th>\n",
       "      <td>1067</td>\n",
       "      <td>Urban</td>\n",
       "      <td>27</td>\n",
       "      <td>No</td>\n",
       "      <td>Used to have</td>\n",
       "      <td>Used to have</td>\n",
       "      <td>Never had</td>\n",
       "      <td>Used to have</td>\n",
       "      <td>Used to have</td>\n",
       "      <td>Putting food on the table</td>\n",
       "      <td>...</td>\n",
       "      <td>No</td>\n",
       "      <td>No</td>\n",
       "      <td>No</td>\n",
       "      <td>0</td>\n",
       "      <td>0</td>\n",
       "      <td>0</td>\n",
       "      <td>0</td>\n",
       "      <td>0</td>\n",
       "      <td>No</td>\n",
       "      <td>20000</td>\n",
       "    </tr>\n",
       "    <tr>\n",
       "      <th>2</th>\n",
       "      <td>1012</td>\n",
       "      <td>Rural</td>\n",
       "      <td>22</td>\n",
       "      <td>No</td>\n",
       "      <td>Never had</td>\n",
       "      <td>Never had</td>\n",
       "      <td>Never had</td>\n",
       "      <td>Never had</td>\n",
       "      <td>Never had</td>\n",
       "      <td>Putting food on the table</td>\n",
       "      <td>...</td>\n",
       "      <td>No</td>\n",
       "      <td>No</td>\n",
       "      <td>No</td>\n",
       "      <td>0</td>\n",
       "      <td>0</td>\n",
       "      <td>0</td>\n",
       "      <td>0</td>\n",
       "      <td>0</td>\n",
       "      <td>No</td>\n",
       "      <td>10000</td>\n",
       "    </tr>\n",
       "    <tr>\n",
       "      <th>3</th>\n",
       "      <td>1032</td>\n",
       "      <td>Rural</td>\n",
       "      <td>29</td>\n",
       "      <td>No</td>\n",
       "      <td>Never had</td>\n",
       "      <td>Never had</td>\n",
       "      <td>Never had</td>\n",
       "      <td>Never had</td>\n",
       "      <td>Never had</td>\n",
       "      <td>Getting a job/developing your career</td>\n",
       "      <td>...</td>\n",
       "      <td>No</td>\n",
       "      <td>No</td>\n",
       "      <td>No</td>\n",
       "      <td>0</td>\n",
       "      <td>0</td>\n",
       "      <td>0</td>\n",
       "      <td>0</td>\n",
       "      <td>0</td>\n",
       "      <td>No</td>\n",
       "      <td>20000</td>\n",
       "    </tr>\n",
       "    <tr>\n",
       "      <th>4</th>\n",
       "      <td>1023</td>\n",
       "      <td>Urban</td>\n",
       "      <td>32</td>\n",
       "      <td>No</td>\n",
       "      <td>Never had</td>\n",
       "      <td>Never had</td>\n",
       "      <td>Never had</td>\n",
       "      <td>Never had</td>\n",
       "      <td>Never had</td>\n",
       "      <td>Getting a job/developing your career</td>\n",
       "      <td>...</td>\n",
       "      <td>No</td>\n",
       "      <td>No</td>\n",
       "      <td>No</td>\n",
       "      <td>0</td>\n",
       "      <td>0</td>\n",
       "      <td>0</td>\n",
       "      <td>0</td>\n",
       "      <td>0</td>\n",
       "      <td>No</td>\n",
       "      <td>10000</td>\n",
       "    </tr>\n",
       "  </tbody>\n",
       "</table>\n",
       "<p>5 rows × 35 columns</p>\n",
       "</div>"
      ],
      "text/plain": [
       "   HHNo     A9  A19 A24    nhif_usage    nssf_usage insurance_usage  \\\n",
       "0  1090  Urban   16  No     Never had     Never had       Never had   \n",
       "1  1067  Urban   27  No  Used to have  Used to have       Never had   \n",
       "2  1012  Rural   22  No     Never had     Never had       Never had   \n",
       "3  1032  Rural   29  No     Never had     Never had       Never had   \n",
       "4  1023  Urban   32  No     Never had     Never had       Never had   \n",
       "\n",
       "  insurance_usage1 insurance_usage2                                   B1A  \\\n",
       "0        Never had        Never had     Educating yourself or your family   \n",
       "1     Used to have     Used to have             Putting food on the table   \n",
       "2        Never had        Never had             Putting food on the table   \n",
       "3        Never had        Never had  Getting a job/developing your career   \n",
       "4        Never had        Never had  Getting a job/developing your career   \n",
       "\n",
       "   ... U16__14 U16__17 U16__18 U17i U17ii U17iii U17iv U17v U19    U23  \n",
       "0  ...      No      No      No    0     0      0     0    0  No   7000  \n",
       "1  ...      No      No      No    0     0      0     0    0  No  20000  \n",
       "2  ...      No      No      No    0     0      0     0    0  No  10000  \n",
       "3  ...      No      No      No    0     0      0     0    0  No  20000  \n",
       "4  ...      No      No      No    0     0      0     0    0  No  10000  \n",
       "\n",
       "[5 rows x 35 columns]"
      ]
     },
     "execution_count": 8,
     "metadata": {},
     "output_type": "execute_result"
    }
   ],
   "source": [
    "nakuru_df = nakuru[['HHNo', 'A9', 'A19', 'A24','nhif_usage', 'nssf_usage','insurance_usage','insurance_usage1','insurance_usage2','B1A', 'B3B', 'B3I', 'C1_4', 'C1_5', 'C1_6', 'T1', 'U16__3', 'U16__4', 'U16__6', 'U16__7', 'U16__8', 'U16__13', 'U16__10', 'U16__11', 'U16__12', 'U16__14', 'U16__17', 'U16__18','U17i', 'U17ii', 'U17iii', 'U17iv', 'U17v', 'U19', 'U23']]\n",
    "nakuru_df.head()"
   ]
  },
  {
   "cell_type": "markdown",
   "metadata": {},
   "source": [
    "Rename features to understandable feature_names:"
   ]
  },
  {
   "cell_type": "code",
   "execution_count": 9,
   "metadata": {},
   "outputs": [],
   "source": [
    "new_names = {'A9':'area', 'A24':'chronic_illness', 'A19':'age_of_respondent', 'B1A': 'most_important_life_goal', 'B3B':'income_source', 'B3I':'avg_mnth_income', 'C1_4':'hse_land_loan', 'C1_5':'insurance_use', 'C1_6':'securities_use', 'T1':'nearest_financial_prod', 'U16__3':'TV_and_decoder', 'U16__4':'internet_TV', 'U16__6':'mobile_phone', 'U16__7':'fixed_internet', 'U16__8':'computer', 'U16__13': 'refrigerator', 'U16__10':'motorcycle', 'U16__11':'car', 'U16__12':'bus_lorry', 'U16__14': 'motorboat', 'U16__17': 'tuktuk', 'U16__18':'tractor', 'U17i':'dairy_cattle', 'U17ii':'beef_cattle', 'U17iii': 'indigenous_cattle', 'U17iv': 'sheep', 'U17v':'goats', 'U19':'land_house_ownership', 'U23':'total_exp_per_moth'}\n",
    "nakuru_df = nakuru_df.rename(columns=new_names)"
   ]
  },
  {
   "cell_type": "code",
   "execution_count": 10,
   "metadata": {},
   "outputs": [
    {
     "name": "stdout",
     "output_type": "stream",
     "text": [
      "<class 'pandas.core.frame.DataFrame'>\n",
      "RangeIndex: 805 entries, 0 to 804\n",
      "Data columns (total 35 columns):\n",
      " #   Column                    Non-Null Count  Dtype \n",
      "---  ------                    --------------  ----- \n",
      " 0   HHNo                      805 non-null    int64 \n",
      " 1   area                      805 non-null    object\n",
      " 2   age_of_respondent         805 non-null    int64 \n",
      " 3   chronic_illness           805 non-null    object\n",
      " 4   nhif_usage                805 non-null    object\n",
      " 5   nssf_usage                805 non-null    object\n",
      " 6   insurance_usage           805 non-null    object\n",
      " 7   insurance_usage1          805 non-null    object\n",
      " 8   insurance_usage2          805 non-null    object\n",
      " 9   most_important_life_goal  805 non-null    object\n",
      " 10  income_source             805 non-null    object\n",
      " 11  avg_mnth_income           805 non-null    object\n",
      " 12  hse_land_loan             805 non-null    object\n",
      " 13  insurance_use             805 non-null    object\n",
      " 14  securities_use            805 non-null    object\n",
      " 15  nearest_financial_prod    804 non-null    object\n",
      " 16  TV_and_decoder            803 non-null    object\n",
      " 17  internet_TV               803 non-null    object\n",
      " 18  mobile_phone              803 non-null    object\n",
      " 19  fixed_internet            803 non-null    object\n",
      " 20  computer                  803 non-null    object\n",
      " 21  refrigerator              803 non-null    object\n",
      " 22  motorcycle                803 non-null    object\n",
      " 23  car                       803 non-null    object\n",
      " 24  bus_lorry                 803 non-null    object\n",
      " 25  motorboat                 803 non-null    object\n",
      " 26  tuktuk                    803 non-null    object\n",
      " 27  tractor                   803 non-null    object\n",
      " 28  dairy_cattle              803 non-null    object\n",
      " 29  beef_cattle               803 non-null    object\n",
      " 30  indigenous_cattle         803 non-null    object\n",
      " 31  sheep                     803 non-null    object\n",
      " 32  goats                     803 non-null    object\n",
      " 33  land_house_ownership      803 non-null    object\n",
      " 34  total_exp_per_moth        803 non-null    object\n",
      "dtypes: int64(2), object(33)\n",
      "memory usage: 220.2+ KB\n"
     ]
    }
   ],
   "source": [
    "nakuru_df.info()"
   ]
  },
  {
   "cell_type": "markdown",
   "metadata": {},
   "source": [
    "##### Feature Engineering"
   ]
  },
  {
   "cell_type": "markdown",
   "metadata": {},
   "source": [
    "Consolidate the columns 'computer', 'TV_and_decoder', 'internet_TV', 'mobile_phone', 'fixed_internet', 'refrigerator' to one feature known as electronic_device, which is the use of an electronice device in the interviewed house holds."
   ]
  },
  {
   "cell_type": "code",
   "execution_count": 11,
   "metadata": {},
   "outputs": [
    {
     "data": {
      "text/html": [
       "<div>\n",
       "<style scoped>\n",
       "    .dataframe tbody tr th:only-of-type {\n",
       "        vertical-align: middle;\n",
       "    }\n",
       "\n",
       "    .dataframe tbody tr th {\n",
       "        vertical-align: top;\n",
       "    }\n",
       "\n",
       "    .dataframe thead th {\n",
       "        text-align: right;\n",
       "    }\n",
       "</style>\n",
       "<table border=\"1\" class=\"dataframe\">\n",
       "  <thead>\n",
       "    <tr style=\"text-align: right;\">\n",
       "      <th></th>\n",
       "      <th>HHNo</th>\n",
       "      <th>area</th>\n",
       "      <th>age_of_respondent</th>\n",
       "      <th>chronic_illness</th>\n",
       "      <th>nhif_usage</th>\n",
       "      <th>nssf_usage</th>\n",
       "      <th>insurance_usage</th>\n",
       "      <th>insurance_usage1</th>\n",
       "      <th>insurance_usage2</th>\n",
       "      <th>most_important_life_goal</th>\n",
       "      <th>...</th>\n",
       "      <th>tuktuk</th>\n",
       "      <th>tractor</th>\n",
       "      <th>dairy_cattle</th>\n",
       "      <th>beef_cattle</th>\n",
       "      <th>indigenous_cattle</th>\n",
       "      <th>sheep</th>\n",
       "      <th>goats</th>\n",
       "      <th>land_house_ownership</th>\n",
       "      <th>total_exp_per_moth</th>\n",
       "      <th>electronic_device</th>\n",
       "    </tr>\n",
       "  </thead>\n",
       "  <tbody>\n",
       "    <tr>\n",
       "      <th>0</th>\n",
       "      <td>1090</td>\n",
       "      <td>Urban</td>\n",
       "      <td>16</td>\n",
       "      <td>No</td>\n",
       "      <td>Never had</td>\n",
       "      <td>Never had</td>\n",
       "      <td>Never had</td>\n",
       "      <td>Never had</td>\n",
       "      <td>Never had</td>\n",
       "      <td>Educating yourself or your family</td>\n",
       "      <td>...</td>\n",
       "      <td>No</td>\n",
       "      <td>No</td>\n",
       "      <td>0</td>\n",
       "      <td>0</td>\n",
       "      <td>0</td>\n",
       "      <td>0</td>\n",
       "      <td>0</td>\n",
       "      <td>No</td>\n",
       "      <td>7000</td>\n",
       "      <td>No</td>\n",
       "    </tr>\n",
       "    <tr>\n",
       "      <th>1</th>\n",
       "      <td>1067</td>\n",
       "      <td>Urban</td>\n",
       "      <td>27</td>\n",
       "      <td>No</td>\n",
       "      <td>Used to have</td>\n",
       "      <td>Used to have</td>\n",
       "      <td>Never had</td>\n",
       "      <td>Used to have</td>\n",
       "      <td>Used to have</td>\n",
       "      <td>Putting food on the table</td>\n",
       "      <td>...</td>\n",
       "      <td>No</td>\n",
       "      <td>No</td>\n",
       "      <td>0</td>\n",
       "      <td>0</td>\n",
       "      <td>0</td>\n",
       "      <td>0</td>\n",
       "      <td>0</td>\n",
       "      <td>No</td>\n",
       "      <td>20000</td>\n",
       "      <td>Yes</td>\n",
       "    </tr>\n",
       "    <tr>\n",
       "      <th>2</th>\n",
       "      <td>1012</td>\n",
       "      <td>Rural</td>\n",
       "      <td>22</td>\n",
       "      <td>No</td>\n",
       "      <td>Never had</td>\n",
       "      <td>Never had</td>\n",
       "      <td>Never had</td>\n",
       "      <td>Never had</td>\n",
       "      <td>Never had</td>\n",
       "      <td>Putting food on the table</td>\n",
       "      <td>...</td>\n",
       "      <td>No</td>\n",
       "      <td>No</td>\n",
       "      <td>0</td>\n",
       "      <td>0</td>\n",
       "      <td>0</td>\n",
       "      <td>0</td>\n",
       "      <td>0</td>\n",
       "      <td>No</td>\n",
       "      <td>10000</td>\n",
       "      <td>No</td>\n",
       "    </tr>\n",
       "    <tr>\n",
       "      <th>3</th>\n",
       "      <td>1032</td>\n",
       "      <td>Rural</td>\n",
       "      <td>29</td>\n",
       "      <td>No</td>\n",
       "      <td>Never had</td>\n",
       "      <td>Never had</td>\n",
       "      <td>Never had</td>\n",
       "      <td>Never had</td>\n",
       "      <td>Never had</td>\n",
       "      <td>Getting a job/developing your career</td>\n",
       "      <td>...</td>\n",
       "      <td>No</td>\n",
       "      <td>No</td>\n",
       "      <td>0</td>\n",
       "      <td>0</td>\n",
       "      <td>0</td>\n",
       "      <td>0</td>\n",
       "      <td>0</td>\n",
       "      <td>No</td>\n",
       "      <td>20000</td>\n",
       "      <td>No</td>\n",
       "    </tr>\n",
       "    <tr>\n",
       "      <th>4</th>\n",
       "      <td>1023</td>\n",
       "      <td>Urban</td>\n",
       "      <td>32</td>\n",
       "      <td>No</td>\n",
       "      <td>Never had</td>\n",
       "      <td>Never had</td>\n",
       "      <td>Never had</td>\n",
       "      <td>Never had</td>\n",
       "      <td>Never had</td>\n",
       "      <td>Getting a job/developing your career</td>\n",
       "      <td>...</td>\n",
       "      <td>No</td>\n",
       "      <td>No</td>\n",
       "      <td>0</td>\n",
       "      <td>0</td>\n",
       "      <td>0</td>\n",
       "      <td>0</td>\n",
       "      <td>0</td>\n",
       "      <td>No</td>\n",
       "      <td>10000</td>\n",
       "      <td>No</td>\n",
       "    </tr>\n",
       "  </tbody>\n",
       "</table>\n",
       "<p>5 rows × 36 columns</p>\n",
       "</div>"
      ],
      "text/plain": [
       "   HHNo   area  age_of_respondent chronic_illness    nhif_usage    nssf_usage  \\\n",
       "0  1090  Urban                 16              No     Never had     Never had   \n",
       "1  1067  Urban                 27              No  Used to have  Used to have   \n",
       "2  1012  Rural                 22              No     Never had     Never had   \n",
       "3  1032  Rural                 29              No     Never had     Never had   \n",
       "4  1023  Urban                 32              No     Never had     Never had   \n",
       "\n",
       "  insurance_usage insurance_usage1 insurance_usage2  \\\n",
       "0       Never had        Never had        Never had   \n",
       "1       Never had     Used to have     Used to have   \n",
       "2       Never had        Never had        Never had   \n",
       "3       Never had        Never had        Never had   \n",
       "4       Never had        Never had        Never had   \n",
       "\n",
       "               most_important_life_goal  ... tuktuk tractor dairy_cattle  \\\n",
       "0     Educating yourself or your family  ...     No      No            0   \n",
       "1             Putting food on the table  ...     No      No            0   \n",
       "2             Putting food on the table  ...     No      No            0   \n",
       "3  Getting a job/developing your career  ...     No      No            0   \n",
       "4  Getting a job/developing your career  ...     No      No            0   \n",
       "\n",
       "  beef_cattle indigenous_cattle sheep goats land_house_ownership  \\\n",
       "0           0                 0     0     0                   No   \n",
       "1           0                 0     0     0                   No   \n",
       "2           0                 0     0     0                   No   \n",
       "3           0                 0     0     0                   No   \n",
       "4           0                 0     0     0                   No   \n",
       "\n",
       "  total_exp_per_moth electronic_device  \n",
       "0               7000                No  \n",
       "1              20000               Yes  \n",
       "2              10000                No  \n",
       "3              20000                No  \n",
       "4              10000                No  \n",
       "\n",
       "[5 rows x 36 columns]"
      ]
     },
     "execution_count": 11,
     "metadata": {},
     "output_type": "execute_result"
    }
   ],
   "source": [
    "columns = ['computer', 'TV_and_decoder', 'internet_TV', 'mobile_phone', 'fixed_internet', 'refrigerator' ]\n",
    "\n",
    "nakuru_df['electronic_device'] = nakuru_df[columns].apply(lambda row: 'Yes' if 'Yes' in row.values else 'No', axis=1)\n",
    "nakuru_df.head()"
   ]
  },
  {
   "cell_type": "code",
   "execution_count": 12,
   "metadata": {},
   "outputs": [],
   "source": [
    "# same for motorvehicle ownership\n",
    "columns1 = ['motorcycle', 'car', 'bus_lorry', 'motorboat', 'tuktuk', 'tractor' ]\n",
    "\n",
    "nakuru_df['motorvehicle_ownership'] = nakuru_df[columns1].apply(lambda row: 'Yes' if 'Yes' in row.values else 'No', axis=1)"
   ]
  },
  {
   "cell_type": "code",
   "execution_count": 13,
   "metadata": {},
   "outputs": [],
   "source": [
    "#and livestock ownership\n",
    "columns2 = ['dairy_cattle', 'beef_cattle', 'indigenous_cattle', 'sheep', 'goats']\n",
    "\n",
    "nakuru_df['livestock_ownership'] = nakuru_df[columns2].apply(lambda row: True if True in row.values else False, axis=1)"
   ]
  },
  {
   "cell_type": "code",
   "execution_count": 14,
   "metadata": {},
   "outputs": [],
   "source": [
    "#drop unused columns\n",
    "nakuru_df.drop(columns=columns + columns1 + columns2, inplace=True, axis=1)"
   ]
  },
  {
   "cell_type": "markdown",
   "metadata": {},
   "source": [
    "Clean feature values:"
   ]
  },
  {
   "cell_type": "markdown",
   "metadata": {},
   "source": [
    "For columns with usage attributes, we integrate 'used to have' and 'currently have' to 'Yes', and 'Never had' to 'No'"
   ]
  },
  {
   "cell_type": "markdown",
   "metadata": {},
   "source": [
    "Nhif and Nssf:"
   ]
  },
  {
   "cell_type": "code",
   "execution_count": 15,
   "metadata": {},
   "outputs": [
    {
     "data": {
      "text/plain": [
       "array(['Never had', 'Used to have', 'Currently have'], dtype=object)"
      ]
     },
     "execution_count": 15,
     "metadata": {},
     "output_type": "execute_result"
    }
   ],
   "source": [
    "nakuru_df['nhif_usage'].unique()"
   ]
  },
  {
   "cell_type": "code",
   "execution_count": 16,
   "metadata": {},
   "outputs": [
    {
     "data": {
      "text/plain": [
       "array(['Never had', 'Used to have', 'Currently have'], dtype=object)"
      ]
     },
     "execution_count": 16,
     "metadata": {},
     "output_type": "execute_result"
    }
   ],
   "source": [
    "nakuru_df['nssf_usage'].unique()"
   ]
  },
  {
   "cell_type": "code",
   "execution_count": 17,
   "metadata": {},
   "outputs": [],
   "source": [
    "#replace values\n",
    "replacements = {'Never had' : 'No', 'Used to have': 'Yes', 'Currently have': 'Yes'}\n",
    "nakuru_df['nhif_usage'] = nakuru_df['nhif_usage'].replace(replacements)\n",
    "nakuru_df['nssf_usage'] = nakuru_df['nssf_usage'].replace(replacements)"
   ]
  },
  {
   "cell_type": "markdown",
   "metadata": {},
   "source": [
    "House and Land Loan use, Insurance use, Securities use:"
   ]
  },
  {
   "cell_type": "code",
   "execution_count": 18,
   "metadata": {},
   "outputs": [
    {
     "name": "stdout",
     "output_type": "stream",
     "text": [
      "['Never used' 'Currently use' 'Used to use']\n",
      "['Never used' 'Currently use' 'Used to use']\n",
      "['Never had' 'Currently have' 'Used to have']\n",
      "['Never had' 'Used to have' 'Currently have']\n",
      "['Never had' 'Used to have' 'Currently have']\n",
      "['Never used' 'Used to use' 'Currently use']\n"
     ]
    }
   ],
   "source": [
    "print(nakuru_df['hse_land_loan'].unique())\n",
    "print(nakuru_df['insurance_use'].unique())\n",
    "print(nakuru_df['insurance_usage'].unique())\n",
    "print(nakuru_df['insurance_usage1'].unique())\n",
    "print(nakuru_df['insurance_usage2'].unique())\n",
    "print(nakuru_df['securities_use'].unique())"
   ]
  },
  {
   "cell_type": "code",
   "execution_count": 19,
   "metadata": {},
   "outputs": [],
   "source": [
    "#replace values\n",
    "replacements = {'Never used' : 'No', 'Used to use': 'Yes', 'Currently use': 'Yes'}\n",
    "nakuru_df['hse_land_loan'] = nakuru_df['hse_land_loan'].replace(replacements)\n",
    "nakuru_df['insurance_use'] = nakuru_df['insurance_use'].replace(replacements)\n",
    "nakuru_df['securities_use'] = nakuru_df['securities_use'].replace(replacements)"
   ]
  },
  {
   "cell_type": "code",
   "execution_count": 20,
   "metadata": {},
   "outputs": [],
   "source": [
    "replacements = {'Never had' : 'No', 'Used to have': 'Yes', 'Currently have': 'Yes'}\n",
    "nakuru_df['insurance_usage'] = nakuru_df['insurance_usage'].replace(replacements)\n",
    "nakuru_df['insurance_usage1'] = nakuru_df['insurance_usage1'].replace(replacements)\n",
    "nakuru_df['insurance_usage2'] = nakuru_df['insurance_usage2'].replace(replacements)"
   ]
  },
  {
   "cell_type": "markdown",
   "metadata": {},
   "source": [
    "Merge ambigous insurance usage columns to one column insurance which shows whether the house holds use insurance or not:"
   ]
  },
  {
   "cell_type": "code",
   "execution_count": 21,
   "metadata": {},
   "outputs": [],
   "source": [
    "#merge insurance use\n",
    "columns3 = ['insurance_use', 'insurance_usage', 'insurance_usage1', 'insurance_usage2']\n",
    "\n",
    "nakuru_df['insurance'] = nakuru_df[columns3].apply(lambda row: 'Yes' if 'Yes' in row.values else 'No', axis=1)\n",
    "nakuru_df.drop(columns=columns3, axis=1, inplace=True)"
   ]
  },
  {
   "cell_type": "markdown",
   "metadata": {},
   "source": [
    "Simplify life goal column:"
   ]
  },
  {
   "cell_type": "code",
   "execution_count": 22,
   "metadata": {},
   "outputs": [
    {
     "data": {
      "text/plain": [
       "array(['Educating yourself or your family', 'Putting food on the table',\n",
       "       'Getting a job/developing your career',\n",
       "       'Starting/Improving your business/farm/ add livestock',\n",
       "       'Health (yourself or family/ others)',\n",
       "       'Buying land/ Building a house / improving your house',\n",
       "       '\"Buying assets e.g.  TV, refrigerator',\n",
       "       '\"Refused to Answer (DO NOT READ OUT)\"',\n",
       "       'None  of these (Do not read out)'], dtype=object)"
      ]
     },
     "execution_count": 22,
     "metadata": {},
     "output_type": "execute_result"
    }
   ],
   "source": [
    "nakuru_df['most_important_life_goal'].unique()"
   ]
  },
  {
   "cell_type": "code",
   "execution_count": 23,
   "metadata": {},
   "outputs": [],
   "source": [
    "replacements = {'Educating yourself or your family' : 'Education',\n",
    "                'Putting food on the table': 'Food',\n",
    "                'Getting a job/developing your career': 'Career',\n",
    "                'Starting/Improving your business/farm/ add livestock': 'Business', \n",
    "                'Health (yourself or family/ others)':'Health',\n",
    "                'Buying land/ Building a house / improving your house': 'Home',\n",
    "                '\"Buying assets e.g.  TV, refrigerator': 'Assets',\n",
    "                '\"Refused to Answer (DO NOT READ OUT)\"':'None', \n",
    "                'None  of these (Do not read out)':'None'}\n",
    "nakuru_df['most_important_life_goal'] = nakuru_df['most_important_life_goal'].replace(replacements)"
   ]
  },
  {
   "cell_type": "markdown",
   "metadata": {},
   "source": [
    "Average Monthly Income:<br>\n",
    "Convert 'Dont know' and 'Refused to answer' responses to N/A"
   ]
  },
  {
   "cell_type": "code",
   "execution_count": 24,
   "metadata": {},
   "outputs": [
    {
     "data": {
      "text/plain": [
       "array([8000, 2000, '\"Don\\'t know(DO NOT READ OUT)\"', 4000, 10000, 1000,\n",
       "       3000, 15000, 300, 5000, 50000, 7000, 9000, 65000, 4500,\n",
       "       '\"Refused to Answer(DO NOT READ OUT)\"', 6000, 70000, 20000, 200,\n",
       "       3800, 22000, 100000, 44000, 500, 18000, 28000, 1500, 25000, 12000,\n",
       "       16000, 30000, 7200, 21000, 8500, 11000, 6700, 2800, 24000, 40000,\n",
       "       3600, 4800, 45000, 1200, 17000, 2400, 9500, 13000, 60000, 12500,\n",
       "       3200, 600, 14000, 9600, 2500, 1600, 1800, 5200, 100, 80000, 7500,\n",
       "       70001, 35000, 800, 27000], dtype=object)"
      ]
     },
     "execution_count": 24,
     "metadata": {},
     "output_type": "execute_result"
    }
   ],
   "source": [
    "income = nakuru_df['avg_mnth_income'].unique()\n",
    "income"
   ]
  },
  {
   "cell_type": "code",
   "execution_count": 25,
   "metadata": {},
   "outputs": [
    {
     "name": "stderr",
     "output_type": "stream",
     "text": [
      "/tmp/ipykernel_127417/247140768.py:2: FutureWarning: Downcasting behavior in `replace` is deprecated and will be removed in a future version. To retain the old behavior, explicitly call `result.infer_objects(copy=False)`. To opt-in to the future behavior, set `pd.set_option('future.no_silent_downcasting', True)`\n",
      "  nakuru_df['avg_mnth_income'] = nakuru_df['avg_mnth_income'].replace(replacements)\n"
     ]
    }
   ],
   "source": [
    "replacements = {'\"Don\\'t know(DO NOT READ OUT)\"' : np.nan, '\"Refused to Answer(DO NOT READ OUT)\"': np.nan}\n",
    "nakuru_df['avg_mnth_income'] = nakuru_df['avg_mnth_income'].replace(replacements)"
   ]
  },
  {
   "cell_type": "markdown",
   "metadata": {},
   "source": [
    "Source of Income:"
   ]
  },
  {
   "cell_type": "code",
   "execution_count": 26,
   "metadata": {},
   "outputs": [
    {
     "data": {
      "text/plain": [
       "array(['Money / support from family / friends / spouse', 'Casual worker',\n",
       "       'Running own business/Self employed',\n",
       "       'Farming (crops, keeping livestock, fishing, aquaculture)',\n",
       "       'Employed', 'Renting,  land, house/rooms, equipment',\n",
       "       'Pension/Annuity', 'Money from  NGO / Government'], dtype=object)"
      ]
     },
     "execution_count": 26,
     "metadata": {},
     "output_type": "execute_result"
    }
   ],
   "source": [
    "nakuru_df['income_source'].unique()"
   ]
  },
  {
   "cell_type": "code",
   "execution_count": 27,
   "metadata": {},
   "outputs": [],
   "source": [
    "replacements = {'Money / support from family / friends / spouse' : 'Family',\n",
    "                'Casual worker': 'Casual_work',\n",
    "                'Running own business/Self employed': 'Business', \n",
    "                'Farming (crops, keeping livestock, fishing, aquaculture)':'Agriculture',\n",
    "                'Employed': 'Employment',\n",
    "                'Renting,  land, house/rooms, equipment': 'Renting',\n",
    "                'Pension/Annuity':'Pension', \n",
    "                'Money from  NGO / Government':'Aid'}\n",
    "nakuru_df['income_source'] = nakuru_df['income_source'].replace(replacements)"
   ]
  },
  {
   "cell_type": "markdown",
   "metadata": {},
   "source": [
    "Nearest Financial product:"
   ]
  },
  {
   "cell_type": "code",
   "execution_count": 28,
   "metadata": {},
   "outputs": [
    {
     "data": {
      "text/plain": [
       "array(['Mobile Money Agent (for depositing or withdrawing cash)',\n",
       "       'Bank Agent/ Post Bank Agent', '\"Don\\'t know(DO NOT READ OUT)\"',\n",
       "       'Bank/Post Bank Branch/ Head Office/ ATM', nan,\n",
       "       'Insurance company/ agent'], dtype=object)"
      ]
     },
     "execution_count": 28,
     "metadata": {},
     "output_type": "execute_result"
    }
   ],
   "source": [
    "nakuru_df['nearest_financial_prod'].unique()"
   ]
  },
  {
   "cell_type": "code",
   "execution_count": 29,
   "metadata": {},
   "outputs": [],
   "source": [
    "replacements = {'Mobile Money Agent (for depositing or withdrawing cash)' : 'MMoney',\n",
    "                'Bank Agent/ Post Bank Agent': 'Bank',\n",
    "                'Bank/Post Bank Branch/ Head Office/ ATM': 'Bank', \n",
    "                'Insurance company/ agent':'Insurance',\n",
    "                '\"Don\\'t know(DO NOT READ OUT)\"': pd.NA}\n",
    "nakuru_df['nearest_financial_prod'] = nakuru_df['nearest_financial_prod'].replace(replacements)"
   ]
  },
  {
   "cell_type": "markdown",
   "metadata": {},
   "source": [
    "Land and house ownership:"
   ]
  },
  {
   "cell_type": "code",
   "execution_count": 30,
   "metadata": {},
   "outputs": [
    {
     "data": {
      "text/plain": [
       "array(['No', 'Yes', nan, '\"Refused to Answer (DO NOT READ OUT)\"'],\n",
       "      dtype=object)"
      ]
     },
     "execution_count": 30,
     "metadata": {},
     "output_type": "execute_result"
    }
   ],
   "source": [
    "nakuru_df['land_house_ownership'].unique()"
   ]
  },
  {
   "cell_type": "code",
   "execution_count": 31,
   "metadata": {},
   "outputs": [],
   "source": [
    "replacements = {'\"Refused to Answer (DO NOT READ OUT)\"': pd.NA}\n",
    "nakuru_df['land_house_ownership'] = nakuru_df['land_house_ownership'].replace(replacements)"
   ]
  },
  {
   "cell_type": "code",
   "execution_count": 32,
   "metadata": {},
   "outputs": [
    {
     "data": {
      "text/plain": [
       "HHNo                          0\n",
       "area                          0\n",
       "age_of_respondent             0\n",
       "chronic_illness               0\n",
       "nhif_usage                    0\n",
       "nssf_usage                    0\n",
       "most_important_life_goal      0\n",
       "income_source                 0\n",
       "avg_mnth_income             106\n",
       "hse_land_loan                 0\n",
       "securities_use                0\n",
       "nearest_financial_prod        7\n",
       "land_house_ownership          3\n",
       "total_exp_per_moth            2\n",
       "electronic_device             0\n",
       "motorvehicle_ownership        0\n",
       "livestock_ownership           0\n",
       "insurance                     0\n",
       "dtype: int64"
      ]
     },
     "execution_count": 32,
     "metadata": {},
     "output_type": "execute_result"
    }
   ],
   "source": [
    "#check missing values\n",
    "nakuru_df.isnull().sum()"
   ]
  },
  {
   "cell_type": "code",
   "execution_count": 54,
   "metadata": {},
   "outputs": [],
   "source": [
    "# nakuru_df.to_csv('Nakuru_FinAccess1.csv', index=False)"
   ]
  },
  {
   "cell_type": "code",
   "execution_count": null,
   "metadata": {},
   "outputs": [
    {
     "name": "stdout",
     "output_type": "stream",
     "text": [
      "<class 'pandas.core.frame.DataFrame'>\n",
      "RangeIndex: 796 entries, 0 to 795\n",
      "Data columns (total 20 columns):\n",
      " #   Column                    Non-Null Count  Dtype \n",
      "---  ------                    --------------  ----- \n",
      " 0   HHNo                      796 non-null    int64 \n",
      " 1   area                      796 non-null    object\n",
      " 2   age_of_respondent         796 non-null    int64 \n",
      " 3   chronic_illness           796 non-null    object\n",
      " 4   nhif_usage                796 non-null    object\n",
      " 5   nssf_usage                796 non-null    object\n",
      " 6   most_important_life_goal  790 non-null    object\n",
      " 7   income_source             796 non-null    object\n",
      " 8   avg_mnth_income           796 non-null    int64 \n",
      " 9   hse_land_loan             796 non-null    object\n",
      " 10  securities_use            796 non-null    object\n",
      " 11  nearest_financial_prod    796 non-null    object\n",
      " 12  land_house_ownership      796 non-null    object\n",
      " 13  total_exp_per_month       796 non-null    int64 \n",
      " 14  electronic_device         796 non-null    object\n",
      " 15  motorvehicle_ownership    796 non-null    object\n",
      " 16  livestock_ownership       796 non-null    bool  \n",
      " 17  insurance                 796 non-null    object\n",
      " 18  income_bins               796 non-null    object\n",
      " 19  Clusters                  796 non-null    int64 \n",
      "dtypes: bool(1), int64(5), object(14)\n",
      "memory usage: 119.1+ KB\n"
     ]
    }
   ],
   "source": [
    "# nakuru_df = pd.read_csv('App/data/Nakuru_FinAccess.csv')\n",
    "# nakuru_df.info()\n"
   ]
  },
  {
   "cell_type": "markdown",
   "metadata": {},
   "source": [
    "## Exploratory Data Analysis"
   ]
  },
  {
   "cell_type": "markdown",
   "metadata": {},
   "source": [
    "#### Distribution of attributes"
   ]
  },
  {
   "cell_type": "code",
   "execution_count": null,
   "metadata": {},
   "outputs": [
    {
     "data": {
      "text/plain": [
       "array([[<Axes: title={'center': 'avg_mnth_income'}>]], dtype=object)"
      ]
     },
     "execution_count": 8,
     "metadata": {},
     "output_type": "execute_result"
    },
    {
     "data": {
      "image/png": "[encoded data removed]",
      "text/plain": [
       "<Figure size 640x480 with 1 Axes>"
      ]
     },
     "metadata": {},
     "output_type": "display_data"
    }
   ],
   "source": [
    "#average monthly income distribution\n",
    "nakuru_df['avg_mnth_income'] = nakuru_df['avg_mnth_income'].astype('int')\n",
    "\n",
    "nakuru_df.hist(column='avg_mnth_income')"
   ]
  },
  {
   "cell_type": "markdown",
   "metadata": {},
   "source": [
    "Majority of the sample earn an average monthly income below 10,000/="
   ]
  },
  {
   "cell_type": "code",
   "execution_count": null,
   "metadata": {},
   "outputs": [
    {
     "data": {
      "application/vnd.plotly.v1+json": {
       "config": {
        "plotlyServerURL": "https://plot.ly"
       },
       "data": [
        {
         "alignmentgroup": "True",
         "hovertemplate": "area=%{x}<br>avg_mnth_income=%{y}<extra></extra>",
         "legendgroup": "",
         "marker": {
          "color": "#636efa"
         },
         "name": "",
         "notched": false,
         "offsetgroup": "",
         "orientation": "v",
         "showlegend": false,
         "type": "box",
         "x": [
          "Urban",
          "Urban",
          "Rural",
          "Rural",
          "Urban",
          "Rural",
          "Urban",
          "Rural",
          "Rural",
          "Urban",
          "Urban",
          "Urban",
          "Urban",
          "Rural",
          "Rural",
          "Rural",
          "Rural",
          "Urban",
          "Urban",
          "Rural",
          "Rural",
          "Rural",
          "Urban",
          "Urban",
          "Rural",
          "Rural",
          "Urban",
          "Urban",
          "Rural",
          "Rural",
          "Urban",
          "Rural",
          "Rural",
          "Rural",
          "Rural",
          "Urban",
          "Urban",
          "Rural",
          "Urban",
          "Rural",
          "Urban",
          "Urban",
          "Urban",
          "Rural",
          "Rural",
          "Rural",
          "Rural",
          "Rural",
          "Rural",
          "Urban",
          "Urban",
          "Rural",
          "Urban",
          "Urban",
          "Rural",
          "Rural",
          "Urban",
          "Urban",
          "Urban",
          "Urban",
          "Urban",
          "Urban",
          "Rural",
          "Rural",
          "Rural",
          "Urban",
          "Rural",
          "Urban",
          "Rural",
          "Rural",
          "Urban",
          "Urban",
          "Rural",
          "Rural",
          "Urban",
          "Rural",
          "Urban",
          "Urban",
          "Urban",
          "Urban",
          "Urban",
          "Urban",
          "Rural",
          "Rural",
          "Urban",
          "Urban",
          "Rural",
          "Urban",
          "Urban",
          "Urban",
          "Rural",
          "Rural",
          "Urban",
          "Rural",
          "Urban",
          "Urban",
          "Urban",
          "Urban",
          "Urban",
          "Rural",
          "Rural",
          "Urban",
          "Rural",
          "Urban",
          "Urban",
          "Urban",
          "Urban",
          "Rural",
          "Urban",
          "Rural",
          "Urban",
          "Urban",
          "Rural",
          "Rural",
          "Urban",
          "Urban",
          "Rural",
          "Rural",
          "Urban",
          "Urban",
          "Rural",
          "Urban",
          "Urban",
          "Rural",
          "Urban",
          "Urban",
          "Urban",
          "Rural",
          "Rural",
          "Urban",
          "Urban",
          "Urban",
          "Rural",
          "Urban",
          "Rural",
          "Urban",
          "Urban",
          "Rural",
          "Urban",
          "Urban",
          "Rural",
          "Rural",
          "Urban",
          "Urban",
          "Rural",
          "Rural",
          "Urban",
          "Urban",
          "Rural",
          "Urban",
          "Urban",
          "Rural",
          "Urban",
          "Urban",
          "Rural",
          "Urban",
          "Rural",
          "Rural",
          "Rural",
          "Urban",
          "Rural",
          "Rural",
          "Rural",
          "Rural",
          "Urban",
          "Rural",
          "Rural",
          "Urban",
          "Rural",
          "Urban",
          "Urban",
          "Urban",
          "Rural",
          "Rural",
          "Urban",
          "Rural",
          "Urban",
          "Rural",
          "Urban",
          "Urban",
          "Rural",
          "Rural",
          "Urban",
          "Rural",
          "Rural",
          "Urban",
          "Urban",
          "Urban",
          "Rural",
          "Rural",
          "Urban",
          "Rural",
          "Rural",
          "Rural",
          "Urban",
          "Urban",
          "Urban",
          "Urban",
          "Urban",
          "Urban",
          "Rural",
          "Rural",
          "Rural",
          "Rural",
          "Urban",
          "Urban",
          "Rural",
          "Rural",
          "Rural",
          "Urban",
          "Urban",
          "Rural",
          "Urban",
          "Rural",
          "Urban",
          "Urban",
          "Urban",
          "Urban",
          "Rural",
          "Urban",
          "Rural",
          "Urban",
          "Urban",
          "Urban",
          "Rural",
          "Urban",
          "Rural",
          "Urban",
          "Rural",
          "Urban",
          "Urban",
          "Urban",
          "Rural",
          "Rural",
          "Rural",
          "Rural",
          "Rural",
          "Rural",
          "Rural",
          "Urban",
          "Rural",
          "Urban",
          "Urban",
          "Rural",
          "Rural",
          "Urban",
          "Urban",
          "Rural",
          "Rural",
          "Rural",
          "Rural",
          "Urban",
          "Urban",
          "Rural",
          "Urban",
          "Urban",
          "Rural",
          "Urban",
          "Rural",
          "Urban",
          "Rural",
          "Rural",
          "Rural",
          "Rural",
          "Rural",
          "Rural",
          "Rural",
          "Rural",
          "Rural",
          "Rural",
          "Rural",
          "Urban",
          "Urban",
          "Urban",
          "Urban",
          "Urban",
          "Urban",
          "Rural",
          "Rural",
          "Urban",
          "Rural",
          "Urban",
          "Rural",
          "Urban",
          "Urban",
          "Urban",
          "Rural",
          "Urban",
          "Urban",
          "Urban",
          "Urban",
          "Urban",
          "Urban",
          "Rural",
          "Urban",
          "Urban",
          "Rural",
          "Rural",
          "Urban",
          "Urban",
          "Rural",
          "Urban",
          "Rural",
          "Urban",
          "Rural",
          "Rural",
          "Rural",
          "Urban",
          "Rural",
          "Urban",
          "Urban",
          "Urban",
          "Urban",
          "Urban",
          "Urban",
          "Urban",
          "Urban",
          "Rural",
          "Rural",
          "Urban",
          "Rural",
          "Rural",
          "Rural",
          "Rural",
          "Rural",
          "Urban",
          "Rural",
          "Urban",
          "Rural",
          "Urban",
          "Urban",
          "Rural",
          "Urban",
          "Urban",
          "Urban",
          "Rural",
          "Urban",
          "Rural",
          "Urban",
          "Rural",
          "Urban",
          "Urban",
          "Urban",
          "Rural",
          "Urban",
          "Urban",
          "Urban",
          "Urban",
          "Rural",
          "Urban",
          "Urban",
          "Urban",
          "Urban",
          "Urban",
          "Urban",
          "Rural",
          "Urban",
          "Rural",
          "Rural",
          "Rural",
          "Urban",
          "Urban",
          "Urban",
          "Urban",
          "Urban",
          "Rural",
          "Urban",
          "Urban",
          "Urban",
          "Rural",
          "Urban",
          "Urban",
          "Rural",
          "Rural",
          "Urban",
          "Rural",
          "Rural",
          "Urban",
          "Urban",
          "Rural",
          "Urban",
          "Rural",
          "Rural",
          "Rural",
          "Urban",
          "Rural",
          "Urban",
          "Rural",
          "Urban",
          "Urban",
          "Rural",
          "Urban",
          "Urban",
          "Rural",
          "Rural",
          "Rural",
          "Rural",
          "Rural",
          "Urban",
          "Rural",
          "Urban",
          "Urban",
          "Rural",
          "Rural",
          "Rural",
          "Urban",
          "Rural",
          "Rural",
          "Rural",
          "Rural",
          "Rural",
          "Rural",
          "Urban",
          "Urban",
          "Rural",
          "Rural",
          "Urban",
          "Rural",
          "Rural",
          "Rural",
          "Rural",
          "Urban",
          "Urban",
          "Rural",
          "Urban",
          "Rural",
          "Urban",
          "Urban",
          "Urban",
          "Urban",
          "Urban",
          "Rural",
          "Urban",
          "Urban",
          "Rural",
          "Rural",
          "Urban",
          "Rural",
          "Rural",
          "Rural",
          "Rural",
          "Urban",
          "Urban",
          "Rural",
          "Rural",
          "Urban",
          "Urban",
          "Urban",
          "Rural",
          "Rural",
          "Rural",
          "Rural",
          "Rural",
          "Urban",
          "Urban",
          "Rural",
          "Rural",
          "Rural",
          "Urban",
          "Urban",
          "Rural",
          "Urban",
          "Urban",
          "Urban",
          "Urban",
          "Urban",
          "Rural",
          "Rural",
          "Rural",
          "Urban",
          "Urban",
          "Rural",
          "Urban",
          "Rural",
          "Rural",
          "Rural",
          "Rural",
          "Urban",
          "Urban",
          "Rural",
          "Urban",
          "Rural",
          "Urban",
          "Rural",
          "Rural",
          "Urban",
          "Rural",
          "Urban",
          "Rural",
          "Rural",
          "Urban",
          "Urban",
          "Rural",
          "Urban",
          "Urban",
          "Urban",
          "Rural",
          "Rural",
          "Urban",
          "Rural",
          "Rural",
          "Rural",
          "Urban",
          "Rural",
          "Rural",
          "Rural",
          "Urban",
          "Urban",
          "Urban",
          "Rural",
          "Urban",
          "Urban",
          "Urban",
          "Rural",
          "Urban",
          "Urban",
          "Rural",
          "Rural",
          "Urban",
          "Urban",
          "Urban",
          "Rural",
          "Rural",
          "Urban",
          "Urban",
          "Rural",
          "Urban",
          "Rural",
          "Urban",
          "Rural",
          "Urban",
          "Rural",
          "Rural",
          "Urban",
          "Urban",
          "Urban",
          "Rural",
          "Rural",
          "Rural",
          "Rural",
          "Urban",
          "Urban",
          "Urban",
          "Rural",
          "Urban",
          "Rural",
          "Urban",
          "Rural",
          "Rural",
          "Rural",
          "Urban",
          "Rural",
          "Rural",
          "Urban",
          "Urban",
          "Rural",
          "Urban",
          "Urban",
          "Urban",
          "Rural",
          "Rural",
          "Urban",
          "Rural",
          "Urban",
          "Rural",
          "Rural",
          "Rural",
          "Urban",
          "Rural",
          "Urban",
          "Rural",
          "Urban",
          "Urban",
          "Rural",
          "Rural",
          "Urban",
          "Rural",
          "Rural",
          "Rural",
          "Urban",
          "Rural",
          "Urban",
          "Rural",
          "Rural",
          "Rural",
          "Rural",
          "Rural",
          "Rural",
          "Rural",
          "Rural",
          "Rural",
          "Rural",
          "Urban",
          "Rural",
          "Urban",
          "Urban",
          "Rural",
          "Rural",
          "Rural",
          "Rural",
          "Urban",
          "Rural",
          "Rural",
          "Rural",
          "Urban",
          "Rural",
          "Urban",
          "Rural",
          "Rural",
          "Urban",
          "Rural",
          "Rural",
          "Urban",
          "Urban",
          "Rural",
          "Urban",
          "Urban",
          "Urban",
          "Urban",
          "Urban",
          "Urban",
          "Rural",
          "Rural",
          "Urban",
          "Rural",
          "Urban",
          "Urban",
          "Urban",
          "Rural",
          "Rural",
          "Urban",
          "Urban",
          "Urban",
          "Rural",
          "Urban",
          "Rural",
          "Urban",
          "Rural",
          "Rural",
          "Rural",
          "Rural",
          "Rural",
          "Urban",
          "Urban",
          "Urban",
          "Rural",
          "Urban",
          "Urban",
          "Urban",
          "Rural",
          "Urban",
          "Urban",
          "Urban",
          "Urban",
          "Rural",
          "Rural",
          "Urban",
          "Rural",
          "Rural",
          "Rural",
          "Urban",
          "Urban",
          "Urban",
          "Rural",
          "Rural",
          "Urban",
          "Urban",
          "Rural",
          "Urban",
          "Rural",
          "Rural",
          "Rural",
          "Rural",
          "Urban",
          "Rural",
          "Urban",
          "Rural",
          "Urban",
          "Urban",
          "Rural",
          "Urban",
          "Urban",
          "Rural",
          "Urban",
          "Urban",
          "Urban",
          "Urban",
          "Rural",
          "Rural",
          "Urban",
          "Rural",
          "Rural",
          "Urban",
          "Rural",
          "Rural",
          "Urban",
          "Urban",
          "Urban",
          "Rural",
          "Rural",
          "Rural",
          "Rural",
          "Urban",
          "Urban",
          "Urban",
          "Rural",
          "Rural",
          "Rural",
          "Urban",
          "Rural",
          "Rural",
          "Urban",
          "Urban",
          "Urban",
          "Rural",
          "Urban",
          "Urban",
          "Rural",
          "Urban",
          "Urban",
          "Rural",
          "Urban",
          "Urban",
          "Rural",
          "Urban",
          "Rural",
          "Rural",
          "Urban",
          "Urban",
          "Urban",
          "Urban",
          "Urban",
          "Urban",
          "Urban",
          "Urban",
          "Urban",
          "Rural",
          "Urban",
          "Rural",
          "Urban",
          "Rural",
          "Rural",
          "Urban",
          "Urban",
          "Rural",
          "Urban",
          "Rural",
          "Rural",
          "Urban",
          "Rural",
          "Rural",
          "Rural",
          "Urban",
          "Rural",
          "Urban",
          "Urban",
          "Rural",
          "Urban",
          "Rural",
          "Urban",
          "Urban",
          "Urban",
          "Rural",
          "Rural",
          "Urban",
          "Urban",
          "Rural",
          "Urban",
          "Urban",
          "Rural",
          "Urban",
          "Urban",
          "Rural",
          "Urban",
          "Urban",
          "Urban",
          "Rural",
          "Urban",
          "Rural",
          "Urban",
          "Urban",
          "Rural",
          "Urban",
          "Rural",
          "Rural",
          "Urban",
          "Urban",
          "Urban",
          "Urban",
          "Rural"
         ],
         "x0": " ",
         "xaxis": "x",
         "y": [
          8000,
          2000,
          9872,
          9872,
          8000,
          4000,
          10000,
          1000,
          3000,
          15000,
          300,
          9872,
          1000,
          5000,
          50000,
          7000,
          2000,
          9000,
          9872,
          9872,
          1000,
          5000,
          9000,
          2000,
          4000,
          5000,
          65000,
          4500,
          10000,
          7000,
          10000,
          5000,
          2000,
          5000,
          5000,
          15000,
          3000,
          1000,
          5000,
          1000,
          9872,
          6000,
          7000,
          70000,
          5000,
          5000,
          20000,
          10000,
          4000,
          15000,
          1000,
          200,
          2000,
          9872,
          3800,
          4000,
          3000,
          15000,
          2000,
          10000,
          15000,
          22000,
          3000,
          9872,
          10000,
          9000,
          2000,
          9872,
          9872,
          3000,
          2000,
          9872,
          9872,
          100000,
          50000,
          10000,
          44000,
          20000,
          15000,
          20000,
          4000,
          20000,
          5000,
          4000,
          500,
          18000,
          200,
          10000,
          10000,
          9872,
          15000,
          2000,
          28000,
          1500,
          20000,
          9872,
          25000,
          9872,
          25000,
          3000,
          2000,
          12000,
          12000,
          5000,
          9872,
          9872,
          20000,
          20000,
          10000,
          5000,
          9872,
          6000,
          10000,
          12000,
          12000,
          16000,
          30000,
          9872,
          9872,
          5000,
          9872,
          10000,
          10000,
          2000,
          16000,
          7200,
          70000,
          9872,
          15000,
          5000,
          6000,
          15000,
          8000,
          4500,
          8000,
          12000,
          10000,
          30000,
          5000,
          20000,
          7000,
          6000,
          6000,
          3000,
          15000,
          7000,
          1000,
          20000,
          21000,
          5000,
          9872,
          2000,
          8000,
          8500,
          15000,
          4000,
          10000,
          1000,
          9872,
          10000,
          5000,
          500,
          5000,
          1500,
          2000,
          6000,
          1000,
          9872,
          7000,
          6000,
          11000,
          8000,
          6000,
          3000,
          15000,
          20000,
          30000,
          6700,
          15000,
          9872,
          10000,
          4000,
          9872,
          20000,
          10000,
          2800,
          7000,
          12000,
          5000,
          3000,
          10000,
          30000,
          4000,
          2000,
          10000,
          5000,
          10000,
          3000,
          5000,
          2000,
          5000,
          7000,
          5000,
          6000,
          500,
          15000,
          15000,
          3000,
          1000,
          5000,
          7000,
          9872,
          9872,
          4000,
          1000,
          10000,
          25000,
          3000,
          1000,
          6000,
          3000,
          3000,
          24000,
          6000,
          2000,
          12000,
          3000,
          5000,
          1500,
          9872,
          10000,
          7000,
          9000,
          40000,
          9872,
          5000,
          1000,
          3000,
          1000,
          15000,
          1500,
          20000,
          3000,
          10000,
          9872,
          10000,
          10000,
          9872,
          3600,
          10000,
          20000,
          10000,
          9872,
          4800,
          6000,
          6000,
          6000,
          1000,
          11000,
          3000,
          1000,
          1000,
          45000,
          500,
          50000,
          9872,
          8000,
          500,
          3000,
          500,
          8000,
          1200,
          18000,
          9872,
          17000,
          9872,
          15000,
          5000,
          2000,
          4000,
          10000,
          12000,
          25000,
          1000,
          10000,
          2000,
          15000,
          8000,
          9000,
          5000,
          8000,
          10000,
          9872,
          6000,
          12000,
          8000,
          2000,
          200,
          30000,
          6000,
          5000,
          200,
          2400,
          9872,
          10000,
          2000,
          10000,
          9872,
          20000,
          20000,
          5000,
          9500,
          10000,
          15000,
          4000,
          9000,
          9872,
          9872,
          7200,
          13000,
          5000,
          25000,
          4000,
          9872,
          2000,
          2000,
          4000,
          10000,
          3000,
          10000,
          10000,
          9872,
          4000,
          60000,
          10000,
          2000,
          5000,
          9872,
          1000,
          1000,
          2000,
          4000,
          6000,
          1000,
          3000,
          15000,
          5000,
          7000,
          4000,
          8000,
          10000,
          20000,
          10000,
          10000,
          12000,
          9872,
          6000,
          10000,
          30000,
          4000,
          20000,
          10000,
          5000,
          9872,
          5000,
          2000,
          40000,
          1500,
          10000,
          10000,
          7000,
          15000,
          50000,
          1500,
          9872,
          4000,
          500,
          5000,
          5000,
          5000,
          8000,
          1500,
          15000,
          9872,
          10000,
          9872,
          9872,
          20000,
          6000,
          8500,
          5000,
          3200,
          30000,
          5000,
          12000,
          4000,
          600,
          1500,
          10000,
          1000,
          6000,
          9872,
          4500,
          9872,
          9872,
          4000,
          2000,
          1500,
          12000,
          5000,
          4000,
          3000,
          6000,
          3000,
          4000,
          9872,
          9000,
          6000,
          2000,
          18000,
          8000,
          10000,
          14000,
          12000,
          9872,
          12000,
          3000,
          9000,
          5000,
          4000,
          5000,
          20000,
          10000,
          25000,
          9000,
          2000,
          15000,
          15000,
          10000,
          5000,
          10000,
          9872,
          3000,
          9872,
          14000,
          5000,
          500,
          9872,
          5000,
          8000,
          20000,
          9872,
          15000,
          9872,
          9872,
          500,
          3000,
          10000,
          1000,
          15000,
          10000,
          20000,
          10000,
          8000,
          10000,
          10000,
          2000,
          4000,
          9600,
          1500,
          20000,
          3000,
          8000,
          9872,
          2000,
          5000,
          3000,
          2500,
          5000,
          10000,
          15000,
          9872,
          10000,
          4000,
          10000,
          2000,
          10000,
          8000,
          6000,
          500,
          13000,
          15000,
          5000,
          9872,
          40000,
          3000,
          5000,
          6000,
          6000,
          5000,
          5000,
          15000,
          5000,
          1600,
          8000,
          200,
          3000,
          40000,
          1000,
          1500,
          3000,
          25000,
          5000,
          5000,
          50000,
          10000,
          3000,
          5000,
          5000,
          6000,
          15000,
          9872,
          20000,
          25000,
          9872,
          1000,
          8000,
          1000,
          5000,
          3000,
          9872,
          500,
          1000,
          14000,
          3000,
          10000,
          9872,
          9872,
          2500,
          9872,
          12000,
          9872,
          15000,
          3000,
          5000,
          3000,
          9872,
          5000,
          1800,
          15000,
          7000,
          1500,
          5200,
          10000,
          9872,
          4000,
          10000,
          9872,
          9872,
          6000,
          5000,
          17000,
          2000,
          8000,
          5000,
          5000,
          12500,
          20000,
          10000,
          10000,
          10000,
          25000,
          15000,
          5000,
          200,
          10000,
          10000,
          8000,
          4000,
          10000,
          3000,
          1000,
          6000,
          4000,
          9872,
          5000,
          100,
          20000,
          10000,
          8000,
          20000,
          2000,
          12000,
          9000,
          60000,
          20000,
          3000,
          1000,
          30000,
          3000,
          5000,
          9872,
          4000,
          2000,
          5000,
          70000,
          100,
          20000,
          2000,
          20000,
          2000,
          15000,
          9000,
          5000,
          9872,
          20000,
          600,
          14000,
          20000,
          15000,
          20000,
          80000,
          5000,
          15000,
          2000,
          9872,
          2000,
          5000,
          9872,
          9872,
          9000,
          8000,
          14000,
          600,
          12000,
          6000,
          15000,
          9872,
          15000,
          10000,
          2000,
          1000,
          30000,
          40000,
          10000,
          6000,
          9000,
          40000,
          5000,
          1500,
          8000,
          10000,
          12000,
          10000,
          10000,
          10000,
          9872,
          2000,
          6000,
          5000,
          15000,
          10000,
          6000,
          10000,
          4000,
          6000,
          10000,
          5000,
          5000,
          3000,
          1500,
          6000,
          9872,
          6000,
          9872,
          8000,
          6000,
          15000,
          18000,
          1500,
          4000,
          28000,
          5000,
          7500,
          12000,
          21000,
          4000,
          2000,
          20000,
          6000,
          24000,
          4000,
          20000,
          3200,
          3000,
          12000,
          10000,
          20000,
          5000,
          2000,
          12000,
          9872,
          4000,
          500,
          30000,
          9872,
          20000,
          70001,
          1500,
          15000,
          4000,
          6000,
          3000,
          500,
          1000,
          10000,
          2000,
          5000,
          2000,
          5000,
          12000,
          9872,
          3000,
          8000,
          35000,
          2000,
          4000,
          7000,
          9872,
          9000,
          15000,
          8000,
          9872,
          40000,
          800,
          5000,
          10000,
          17000,
          2000,
          9872,
          9872,
          9872,
          18000,
          10000,
          10000,
          10000,
          20000,
          20000,
          8000,
          8000,
          500,
          3000,
          9872,
          9872,
          8000,
          6000,
          7000,
          25000,
          3000,
          9872,
          1500,
          8000,
          500,
          500,
          30000,
          10000,
          20000,
          30000,
          5000,
          3000,
          2400,
          9872,
          27000,
          5000,
          30000,
          9872,
          9000,
          6000,
          10000,
          30000,
          9872,
          500,
          5000,
          10000,
          10000,
          8000,
          7000,
          3000,
          12000,
          9872
         ],
         "y0": " ",
         "yaxis": "y"
        }
       ],
       "layout": {
        "boxmode": "group",
        "legend": {
         "tracegroupgap": 0
        },
        "margin": {
         "t": 60
        },
        "template": {
         "data": {
          "bar": [
           {
            "error_x": {
             "color": "#2a3f5f"
            },
            "error_y": {
             "color": "#2a3f5f"
            },
            "marker": {
             "line": {
              "color": "#E5ECF6",
              "width": 0.5
             },
             "pattern": {
              "fillmode": "overlay",
              "size": 10,
              "solidity": 0.2
             }
            },
            "type": "bar"
           }
          ],
          "barpolar": [
           {
            "marker": {
             "line": {
              "color": "#E5ECF6",
              "width": 0.5
             },
             "pattern": {
              "fillmode": "overlay",
              "size": 10,
              "solidity": 0.2
             }
            },
            "type": "barpolar"
           }
          ],
          "carpet": [
           {
            "aaxis": {
             "endlinecolor": "#2a3f5f",
             "gridcolor": "white",
             "linecolor": "white",
             "minorgridcolor": "white",
             "startlinecolor": "#2a3f5f"
            },
            "baxis": {
             "endlinecolor": "#2a3f5f",
             "gridcolor": "white",
             "linecolor": "white",
             "minorgridcolor": "white",
             "startlinecolor": "#2a3f5f"
            },
            "type": "carpet"
           }
          ],
          "choropleth": [
           {
            "colorbar": {
             "outlinewidth": 0,
             "ticks": ""
            },
            "type": "choropleth"
           }
          ],
          "contour": [
           {
            "colorbar": {
             "outlinewidth": 0,
             "ticks": ""
            },
            "colorscale": [
             [
              0,
              "#0d0887"
             ],
             [
              0.1111111111111111,
              "#46039f"
             ],
             [
              0.2222222222222222,
              "#7201a8"
             ],
             [
              0.3333333333333333,
              "#9c179e"
             ],
             [
              0.4444444444444444,
              "#bd3786"
             ],
             [
              0.5555555555555556,
              "#d8576b"
             ],
             [
              0.6666666666666666,
              "#ed7953"
             ],
             [
              0.7777777777777778,
              "#fb9f3a"
             ],
             [
              0.8888888888888888,
              "#fdca26"
             ],
             [
              1,
              "#f0f921"
             ]
            ],
            "type": "contour"
           }
          ],
          "contourcarpet": [
           {
            "colorbar": {
             "outlinewidth": 0,
             "ticks": ""
            },
            "type": "contourcarpet"
           }
          ],
          "heatmap": [
           {
            "colorbar": {
             "outlinewidth": 0,
             "ticks": ""
            },
            "colorscale": [
             [
              0,
              "#0d0887"
             ],
             [
              0.1111111111111111,
              "#46039f"
             ],
             [
              0.2222222222222222,
              "#7201a8"
             ],
             [
              0.3333333333333333,
              "#9c179e"
             ],
             [
              0.4444444444444444,
              "#bd3786"
             ],
             [
              0.5555555555555556,
              "#d8576b"
             ],
             [
              0.6666666666666666,
              "#ed7953"
             ],
             [
              0.7777777777777778,
              "#fb9f3a"
             ],
             [
              0.8888888888888888,
              "#fdca26"
             ],
             [
              1,
              "#f0f921"
             ]
            ],
            "type": "heatmap"
           }
          ],
          "heatmapgl": [
           {
            "colorbar": {
             "outlinewidth": 0,
             "ticks": ""
            },
            "colorscale": [
             [
              0,
              "#0d0887"
             ],
             [
              0.1111111111111111,
              "#46039f"
             ],
             [
              0.2222222222222222,
              "#7201a8"
             ],
             [
              0.3333333333333333,
              "#9c179e"
             ],
             [
              0.4444444444444444,
              "#bd3786"
             ],
             [
              0.5555555555555556,
              "#d8576b"
             ],
             [
              0.6666666666666666,
              "#ed7953"
             ],
             [
              0.7777777777777778,
              "#fb9f3a"
             ],
             [
              0.8888888888888888,
              "#fdca26"
             ],
             [
              1,
              "#f0f921"
             ]
            ],
            "type": "heatmapgl"
           }
          ],
          "histogram": [
           {
            "marker": {
             "pattern": {
              "fillmode": "overlay",
              "size": 10,
              "solidity": 0.2
             }
            },
            "type": "histogram"
           }
          ],
          "histogram2d": [
           {
            "colorbar": {
             "outlinewidth": 0,
             "ticks": ""
            },
            "colorscale": [
             [
              0,
              "#0d0887"
             ],
             [
              0.1111111111111111,
              "#46039f"
             ],
             [
              0.2222222222222222,
              "#7201a8"
             ],
             [
              0.3333333333333333,
              "#9c179e"
             ],
             [
              0.4444444444444444,
              "#bd3786"
             ],
             [
              0.5555555555555556,
              "#d8576b"
             ],
             [
              0.6666666666666666,
              "#ed7953"
             ],
             [
              0.7777777777777778,
              "#fb9f3a"
             ],
             [
              0.8888888888888888,
              "#fdca26"
             ],
             [
              1,
              "#f0f921"
             ]
            ],
            "type": "histogram2d"
           }
          ],
          "histogram2dcontour": [
           {
            "colorbar": {
             "outlinewidth": 0,
             "ticks": ""
            },
            "colorscale": [
             [
              0,
              "#0d0887"
             ],
             [
              0.1111111111111111,
              "#46039f"
             ],
             [
              0.2222222222222222,
              "#7201a8"
             ],
             [
              0.3333333333333333,
              "#9c179e"
             ],
             [
              0.4444444444444444,
              "#bd3786"
             ],
             [
              0.5555555555555556,
              "#d8576b"
             ],
             [
              0.6666666666666666,
              "#ed7953"
             ],
             [
              0.7777777777777778,
              "#fb9f3a"
             ],
             [
              0.8888888888888888,
              "#fdca26"
             ],
             [
              1,
              "#f0f921"
             ]
            ],
            "type": "histogram2dcontour"
           }
          ],
          "mesh3d": [
           {
            "colorbar": {
             "outlinewidth": 0,
             "ticks": ""
            },
            "type": "mesh3d"
           }
          ],
          "parcoords": [
           {
            "line": {
             "colorbar": {
              "outlinewidth": 0,
              "ticks": ""
             }
            },
            "type": "parcoords"
           }
          ],
          "pie": [
           {
            "automargin": true,
            "type": "pie"
           }
          ],
          "scatter": [
           {
            "fillpattern": {
             "fillmode": "overlay",
             "size": 10,
             "solidity": 0.2
            },
            "type": "scatter"
           }
          ],
          "scatter3d": [
           {
            "line": {
             "colorbar": {
              "outlinewidth": 0,
              "ticks": ""
             }
            },
            "marker": {
             "colorbar": {
              "outlinewidth": 0,
              "ticks": ""
             }
            },
            "type": "scatter3d"
           }
          ],
          "scattercarpet": [
           {
            "marker": {
             "colorbar": {
              "outlinewidth": 0,
              "ticks": ""
             }
            },
            "type": "scattercarpet"
           }
          ],
          "scattergeo": [
           {
            "marker": {
             "colorbar": {
              "outlinewidth": 0,
              "ticks": ""
             }
            },
            "type": "scattergeo"
           }
          ],
          "scattergl": [
           {
            "marker": {
             "colorbar": {
              "outlinewidth": 0,
              "ticks": ""
             }
            },
            "type": "scattergl"
           }
          ],
          "scattermapbox": [
           {
            "marker": {
             "colorbar": {
              "outlinewidth": 0,
              "ticks": ""
             }
            },
            "type": "scattermapbox"
           }
          ],
          "scatterpolar": [
           {
            "marker": {
             "colorbar": {
              "outlinewidth": 0,
              "ticks": ""
             }
            },
            "type": "scatterpolar"
           }
          ],
          "scatterpolargl": [
           {
            "marker": {
             "colorbar": {
              "outlinewidth": 0,
              "ticks": ""
             }
            },
            "type": "scatterpolargl"
           }
          ],
          "scatterternary": [
           {
            "marker": {
             "colorbar": {
              "outlinewidth": 0,
              "ticks": ""
             }
            },
            "type": "scatterternary"
           }
          ],
          "surface": [
           {
            "colorbar": {
             "outlinewidth": 0,
             "ticks": ""
            },
            "colorscale": [
             [
              0,
              "#0d0887"
             ],
             [
              0.1111111111111111,
              "#46039f"
             ],
             [
              0.2222222222222222,
              "#7201a8"
             ],
             [
              0.3333333333333333,
              "#9c179e"
             ],
             [
              0.4444444444444444,
              "#bd3786"
             ],
             [
              0.5555555555555556,
              "#d8576b"
             ],
             [
              0.6666666666666666,
              "#ed7953"
             ],
             [
              0.7777777777777778,
              "#fb9f3a"
             ],
             [
              0.8888888888888888,
              "#fdca26"
             ],
             [
              1,
              "#f0f921"
             ]
            ],
            "type": "surface"
           }
          ],
          "table": [
           {
            "cells": {
             "fill": {
              "color": "#EBF0F8"
             },
             "line": {
              "color": "white"
             }
            },
            "header": {
             "fill": {
              "color": "#C8D4E3"
             },
             "line": {
              "color": "white"
             }
            },
            "type": "table"
           }
          ]
         },
         "layout": {
          "annotationdefaults": {
           "arrowcolor": "#2a3f5f",
           "arrowhead": 0,
           "arrowwidth": 1
          },
          "autotypenumbers": "strict",
          "coloraxis": {
           "colorbar": {
            "outlinewidth": 0,
            "ticks": ""
           }
          },
          "colorscale": {
           "diverging": [
            [
             0,
             "#8e0152"
            ],
            [
             0.1,
             "#c51b7d"
            ],
            [
             0.2,
             "#de77ae"
            ],
            [
             0.3,
             "#f1b6da"
            ],
            [
             0.4,
             "#fde0ef"
            ],
            [
             0.5,
             "#f7f7f7"
            ],
            [
             0.6,
             "#e6f5d0"
            ],
            [
             0.7,
             "#b8e186"
            ],
            [
             0.8,
             "#7fbc41"
            ],
            [
             0.9,
             "#4d9221"
            ],
            [
             1,
             "#276419"
            ]
           ],
           "sequential": [
            [
             0,
             "#0d0887"
            ],
            [
             0.1111111111111111,
             "#46039f"
            ],
            [
             0.2222222222222222,
             "#7201a8"
            ],
            [
             0.3333333333333333,
             "#9c179e"
            ],
            [
             0.4444444444444444,
             "#bd3786"
            ],
            [
             0.5555555555555556,
             "#d8576b"
            ],
            [
             0.6666666666666666,
             "#ed7953"
            ],
            [
             0.7777777777777778,
             "#fb9f3a"
            ],
            [
             0.8888888888888888,
             "#fdca26"
            ],
            [
             1,
             "#f0f921"
            ]
           ],
           "sequentialminus": [
            [
             0,
             "#0d0887"
            ],
            [
             0.1111111111111111,
             "#46039f"
            ],
            [
             0.2222222222222222,
             "#7201a8"
            ],
            [
             0.3333333333333333,
             "#9c179e"
            ],
            [
             0.4444444444444444,
             "#bd3786"
            ],
            [
             0.5555555555555556,
             "#d8576b"
            ],
            [
             0.6666666666666666,
             "#ed7953"
            ],
            [
             0.7777777777777778,
             "#fb9f3a"
            ],
            [
             0.8888888888888888,
             "#fdca26"
            ],
            [
             1,
             "#f0f921"
            ]
           ]
          },
          "colorway": [
           "#636efa",
           "#EF553B",
           "#00cc96",
           "#ab63fa",
           "#FFA15A",
           "#19d3f3",
           "#FF6692",
           "#B6E880",
           "#FF97FF",
           "#FECB52"
          ],
          "font": {
           "color": "#2a3f5f"
          },
          "geo": {
           "bgcolor": "white",
           "lakecolor": "white",
           "landcolor": "#E5ECF6",
           "showlakes": true,
           "showland": true,
           "subunitcolor": "white"
          },
          "hoverlabel": {
           "align": "left"
          },
          "hovermode": "closest",
          "mapbox": {
           "style": "light"
          },
          "paper_bgcolor": "white",
          "plot_bgcolor": "#E5ECF6",
          "polar": {
           "angularaxis": {
            "gridcolor": "white",
            "linecolor": "white",
            "ticks": ""
           },
           "bgcolor": "#E5ECF6",
           "radialaxis": {
            "gridcolor": "white",
            "linecolor": "white",
            "ticks": ""
           }
          },
          "scene": {
           "xaxis": {
            "backgroundcolor": "#E5ECF6",
            "gridcolor": "white",
            "gridwidth": 2,
            "linecolor": "white",
            "showbackground": true,
            "ticks": "",
            "zerolinecolor": "white"
           },
           "yaxis": {
            "backgroundcolor": "#E5ECF6",
            "gridcolor": "white",
            "gridwidth": 2,
            "linecolor": "white",
            "showbackground": true,
            "ticks": "",
            "zerolinecolor": "white"
           },
           "zaxis": {
            "backgroundcolor": "#E5ECF6",
            "gridcolor": "white",
            "gridwidth": 2,
            "linecolor": "white",
            "showbackground": true,
            "ticks": "",
            "zerolinecolor": "white"
           }
          },
          "shapedefaults": {
           "line": {
            "color": "#2a3f5f"
           }
          },
          "ternary": {
           "aaxis": {
            "gridcolor": "white",
            "linecolor": "white",
            "ticks": ""
           },
           "baxis": {
            "gridcolor": "white",
            "linecolor": "white",
            "ticks": ""
           },
           "bgcolor": "#E5ECF6",
           "caxis": {
            "gridcolor": "white",
            "linecolor": "white",
            "ticks": ""
           }
          },
          "title": {
           "x": 0.05
          },
          "xaxis": {
           "automargin": true,
           "gridcolor": "white",
           "linecolor": "white",
           "ticks": "",
           "title": {
            "standoff": 15
           },
           "zerolinecolor": "white",
           "zerolinewidth": 2
          },
          "yaxis": {
           "automargin": true,
           "gridcolor": "white",
           "linecolor": "white",
           "ticks": "",
           "title": {
            "standoff": 15
           },
           "zerolinecolor": "white",
           "zerolinewidth": 2
          }
         }
        },
        "xaxis": {
         "anchor": "y",
         "domain": [
          0,
          1
         ],
         "title": {
          "text": "area"
         }
        },
        "yaxis": {
         "anchor": "x",
         "domain": [
          0,
          1
         ],
         "title": {
          "text": "avg_mnth_income"
         }
        }
       }
      }
     },
     "metadata": {},
     "output_type": "display_data"
    }
   ],
   "source": [
    "#distribution of income by area and insurance use\n",
    "\n",
    "fig = px.box(nakuru_df, x='area', y='avg_mnth_income')\n",
    "fig.show()"
   ]
  },
  {
   "cell_type": "markdown",
   "metadata": {},
   "source": [
    "People living in the urban areas earn a little bit more than those living in the rural areas. "
   ]
  },
  {
   "cell_type": "code",
   "execution_count": null,
   "metadata": {},
   "outputs": [
    {
     "data": {
      "image/png": "[encoded data removed]",
      "text/plain": [
       "<Figure size 800x500 with 1 Axes>"
      ]
     },
     "metadata": {},
     "output_type": "display_data"
    }
   ],
   "source": [
    "plt.figure(figsize=(8, 5))\n",
    "sns.countplot(x='area', hue='insurance', data=nakuru_df)\n",
    "plt.title('Use of insurance by area')\n",
    "plt.xlabel('Area')\n",
    "plt.ylabel('Count')\n",
    "plt.show()"
   ]
  },
  {
   "cell_type": "markdown",
   "metadata": {},
   "source": [
    "People living in urban areas use insurance more than those living in rural areas."
   ]
  },
  {
   "cell_type": "code",
   "execution_count": null,
   "metadata": {},
   "outputs": [
    {
     "data": {
      "text/html": [
       "<div>\n",
       "<style scoped>\n",
       "    .dataframe tbody tr th:only-of-type {\n",
       "        vertical-align: middle;\n",
       "    }\n",
       "\n",
       "    .dataframe tbody tr th {\n",
       "        vertical-align: top;\n",
       "    }\n",
       "\n",
       "    .dataframe thead th {\n",
       "        text-align: right;\n",
       "    }\n",
       "</style>\n",
       "<table border=\"1\" class=\"dataframe\">\n",
       "  <thead>\n",
       "    <tr style=\"text-align: right;\">\n",
       "      <th></th>\n",
       "      <th>count</th>\n",
       "      <th>mean</th>\n",
       "      <th>std</th>\n",
       "      <th>min</th>\n",
       "      <th>25%</th>\n",
       "      <th>50%</th>\n",
       "      <th>75%</th>\n",
       "      <th>max</th>\n",
       "    </tr>\n",
       "    <tr>\n",
       "      <th>insurance</th>\n",
       "      <th></th>\n",
       "      <th></th>\n",
       "      <th></th>\n",
       "      <th></th>\n",
       "      <th></th>\n",
       "      <th></th>\n",
       "      <th></th>\n",
       "      <th></th>\n",
       "    </tr>\n",
       "  </thead>\n",
       "  <tbody>\n",
       "    <tr>\n",
       "      <th>No</th>\n",
       "      <td>362.0</td>\n",
       "      <td>7278.651934</td>\n",
       "      <td>7412.066117</td>\n",
       "      <td>100.0</td>\n",
       "      <td>3000.0</td>\n",
       "      <td>6000.0</td>\n",
       "      <td>9872.0</td>\n",
       "      <td>100000.0</td>\n",
       "    </tr>\n",
       "    <tr>\n",
       "      <th>Yes</th>\n",
       "      <td>428.0</td>\n",
       "      <td>12023.834112</td>\n",
       "      <td>11914.344185</td>\n",
       "      <td>500.0</td>\n",
       "      <td>5000.0</td>\n",
       "      <td>9872.0</td>\n",
       "      <td>15000.0</td>\n",
       "      <td>80000.0</td>\n",
       "    </tr>\n",
       "  </tbody>\n",
       "</table>\n",
       "</div>"
      ],
      "text/plain": [
       "           count          mean           std    min     25%     50%      75%  \\\n",
       "insurance                                                                      \n",
       "No         362.0   7278.651934   7412.066117  100.0  3000.0  6000.0   9872.0   \n",
       "Yes        428.0  12023.834112  11914.344185  500.0  5000.0  9872.0  15000.0   \n",
       "\n",
       "                max  \n",
       "insurance            \n",
       "No         100000.0  \n",
       "Yes         80000.0  "
      ]
     },
     "execution_count": 11,
     "metadata": {},
     "output_type": "execute_result"
    }
   ],
   "source": [
    "income_avg_by_insurance = nakuru_df.groupby('insurance')['avg_mnth_income'].describe()\n",
    "income_avg_by_insurance"
   ]
  },
  {
   "cell_type": "code",
   "execution_count": null,
   "metadata": {},
   "outputs": [
    {
     "data": {
      "image/png": "[encoded data removed]",
      "text/plain": [
       "<Figure size 1000x500 with 1 Axes>"
      ]
     },
     "metadata": {},
     "output_type": "display_data"
    }
   ],
   "source": [
    "nakuru_df['income_bins'] = pd.cut(nakuru_df['avg_mnth_income'], bins=[0, 10000, 20000, 50000, nakuru_df['avg_mnth_income'].max()],\n",
    "                             labels=['Low Income', 'Middle Income', 'High Income', 'Very High Income'])\n",
    "\n",
    "# Bar plot for insurance usage across income bins\n",
    "plt.figure(figsize=(10, 5))\n",
    "sns.countplot(x='income_bins', hue='insurance', data=nakuru_df)\n",
    "plt.title('Insurance Usage by Income Level')\n",
    "plt.xlabel('Income Level')\n",
    "plt.ylabel('Count')\n",
    "plt.show()"
   ]
  },
  {
   "cell_type": "markdown",
   "metadata": {},
   "source": [
    "Low income earners are less likely to use insurance products comprared to middle, high, and very high income earners."
   ]
  },
  {
   "cell_type": "code",
   "execution_count": null,
   "metadata": {},
   "outputs": [],
   "source": [
    "nakuru_df = nakuru_df.rename({'total_exp_per_moth':'total_exp_per_month'}, axis=1)\n",
    "nakuru_df['total_exp_per_month'] = nakuru_df['total_exp_per_month'].astype('int')"
   ]
  },
  {
   "cell_type": "code",
   "execution_count": null,
   "metadata": {},
   "outputs": [
    {
     "data": {
      "image/png": "[encoded data removed]",
      "text/plain": [
       "<Figure size 500x500 with 1 Axes>"
      ]
     },
     "metadata": {},
     "output_type": "display_data"
    }
   ],
   "source": [
    "#avg income vs total expenditure\n",
    "\n",
    "g = sns.relplot(data=nakuru_df, x='avg_mnth_income', y='total_exp_per_month')\n",
    "g.set_axis_labels(\"Average Monthly Income\", \"Total Expenditure per Month\")\n",
    "plt.show()"
   ]
  },
  {
   "cell_type": "markdown",
   "metadata": {},
   "source": [
    "Most of the house holds live within their wage. There are a few who either spend above or below their income level."
   ]
  },
  {
   "cell_type": "code",
   "execution_count": null,
   "metadata": {},
   "outputs": [
    {
     "data": {
      "image/png": "[encoded data removed]",
      "text/plain": [
       "<Figure size 1000x500 with 1 Axes>"
      ]
     },
     "metadata": {},
     "output_type": "display_data"
    }
   ],
   "source": [
    "#insurance use vs source of income\n",
    "\n",
    "plt.figure(figsize=(10, 5))\n",
    "sns.countplot(x='income_source', hue='insurance', data=nakuru_df)\n",
    "plt.title('Use of insurance by source of income')\n",
    "plt.xlabel('Source of income')\n",
    "plt.ylabel('Count')\n",
    "plt.show()"
   ]
  },
  {
   "cell_type": "markdown",
   "metadata": {},
   "source": [
    "People with some sort of consistent employment(business, agriculture, etc) are more likely to use insurance, whereas those who depend on casual work or help for income are less likely to use insurance."
   ]
  },
  {
   "cell_type": "code",
   "execution_count": null,
   "metadata": {},
   "outputs": [
    {
     "data": {
      "image/png": "[encoded data removed]",
      "text/plain": [
       "<Figure size 800x500 with 1 Axes>"
      ]
     },
     "metadata": {},
     "output_type": "display_data"
    }
   ],
   "source": [
    "#insurance use by life goal\n",
    "plt.figure(figsize=(8, 5))\n",
    "\n",
    "sns.countplot(x='most_important_life_goal', hue='insurance', data=nakuru_df)\n",
    "plt.title('Use of insurance by life goal')\n",
    "plt.xlabel('Most important life goal')\n",
    "plt.ylabel('Count')\n",
    "plt.show()"
   ]
  },
  {
   "cell_type": "markdown",
   "metadata": {},
   "source": [
    "The households whose main goals are to put food on the table, improve business, buy land or build a home, and cater for health needs, tend to most likely use an insurance product. Households who prioritize furthering of education as well as career tend to least use insurance products."
   ]
  },
  {
   "cell_type": "markdown",
   "metadata": {},
   "source": [
    "### Clustering"
   ]
  },
  {
   "cell_type": "markdown",
   "metadata": {},
   "source": [
    "##### Prepare data for clustering"
   ]
  },
  {
   "cell_type": "markdown",
   "metadata": {},
   "source": [
    "Drop columns that are not to be used for clustering:"
   ]
  },
  {
   "cell_type": "code",
   "execution_count": 46,
   "metadata": {},
   "outputs": [],
   "source": [
    "replacements = {\"Don't Know\": np.nan}\n",
    "\n",
    "nakuru_df['chronic_illness'] = nakuru_df['chronic_illness'].replace(replacements)"
   ]
  },
  {
   "cell_type": "code",
   "execution_count": null,
   "metadata": {},
   "outputs": [],
   "source": [
    "nakuru_df.drop(columns=['HHNo', 'Clusters', 'income_bins'], inplace=True, axis=1)"
   ]
  },
  {
   "cell_type": "markdown",
   "metadata": {},
   "source": [
    "Impute the missing values of the average monthly income by the mean value:"
   ]
  },
  {
   "cell_type": "code",
   "execution_count": null,
   "metadata": {},
   "outputs": [],
   "source": [
    "nakuru_df['avg_mnth_income'] = pd.to_numeric(nakuru_df['avg_mnth_income'], errors='coerce')\n",
    "\n",
    "imputer = SimpleImputer(missing_values=np.nan, strategy='mean')\n",
    "nakuru_df['avg_mnth_income']= imputer.fit_transform(nakuru_df[['avg_mnth_income']])\n",
    "nakuru_df['avg_mnth_income'].isnull().sum()\n",
    "nakuru_df['avg_mnth_income'] = nakuru_df['avg_mnth_income'].round(1)"
   ]
  },
  {
   "cell_type": "code",
   "execution_count": null,
   "metadata": {},
   "outputs": [
    {
     "data": {
      "text/plain": [
       "area                        0\n",
       "age_of_respondent           0\n",
       "chronic_illness             1\n",
       "nhif_usage                  0\n",
       "nssf_usage                  0\n",
       "most_important_life_goal    6\n",
       "income_source               0\n",
       "avg_mnth_income             0\n",
       "hse_land_loan               0\n",
       "securities_use              0\n",
       "nearest_financial_prod      0\n",
       "land_house_ownership        0\n",
       "total_exp_per_month         0\n",
       "electronic_device           0\n",
       "motorvehicle_ownership      0\n",
       "livestock_ownership         0\n",
       "insurance                   0\n",
       "dtype: int64"
      ]
     },
     "metadata": {},
     "output_type": "display_data"
    }
   ],
   "source": [
    "nakuru_df.isna().sum()"
   ]
  },
  {
   "cell_type": "code",
   "execution_count": null,
   "metadata": {},
   "outputs": [
    {
     "data": {
      "text/plain": [
       "area                        0\n",
       "age_of_respondent           0\n",
       "chronic_illness             0\n",
       "nhif_usage                  0\n",
       "nssf_usage                  0\n",
       "most_important_life_goal    0\n",
       "income_source               0\n",
       "avg_mnth_income             0\n",
       "hse_land_loan               0\n",
       "securities_use              0\n",
       "nearest_financial_prod      0\n",
       "land_house_ownership        0\n",
       "total_exp_per_month         0\n",
       "electronic_device           0\n",
       "motorvehicle_ownership      0\n",
       "livestock_ownership         0\n",
       "insurance                   0\n",
       "dtype: int64"
      ]
     },
     "metadata": {},
     "output_type": "display_data"
    }
   ],
   "source": [
    "#drop missing values\n",
    "nakuru_df = nakuru_df.dropna(axis=0)\n",
    "nakuru_df.isnull().sum()"
   ]
  },
  {
   "cell_type": "code",
   "execution_count": null,
   "metadata": {},
   "outputs": [
    {
     "data": {
      "text/plain": [
       "area                                                           [Urban, Rural]\n",
       "age_of_respondent           [16, 27, 22, 29, 32, 35, 31, 67, 42, 38, 24, 3...\n",
       "chronic_illness                                                     [No, Yes]\n",
       "nhif_usage                                                          [No, Yes]\n",
       "nssf_usage                                                          [No, Yes]\n",
       "most_important_life_goal    [Education, Food, Career, Business, Health, Ho...\n",
       "income_source               [Family, Casual_work, Business, Agriculture, E...\n",
       "avg_mnth_income             [8000.0, 2000.0, 9872.0, 4000.0, 10000.0, 1000...\n",
       "hse_land_loan                                                       [No, Yes]\n",
       "securities_use                                                      [No, Yes]\n",
       "nearest_financial_prod                              [MMoney, Bank, Insurance]\n",
       "land_house_ownership                                                [No, Yes]\n",
       "total_exp_per_month         [7000, 20000, 10000, 5000, 1000, 3000, 8000, 6...\n",
       "electronic_device                                                   [No, Yes]\n",
       "motorvehicle_ownership                                              [No, Yes]\n",
       "livestock_ownership                                             [False, True]\n",
       "insurance                                                           [No, Yes]\n",
       "dtype: object"
      ]
     },
     "metadata": {},
     "output_type": "display_data"
    }
   ],
   "source": [
    "pd.Series({col:nakuru_df[col].unique() for col in nakuru_df})"
   ]
  },
  {
   "cell_type": "code",
   "execution_count": null,
   "metadata": {},
   "outputs": [
    {
     "data": {
      "text/plain": [
       "Index(['area', 'chronic_illness', 'nhif_usage', 'nssf_usage',\n",
       "       'most_important_life_goal', 'income_source', 'hse_land_loan',\n",
       "       'securities_use', 'nearest_financial_prod', 'land_house_ownership',\n",
       "       'electronic_device', 'motorvehicle_ownership', 'livestock_ownership',\n",
       "       'insurance'],\n",
       "      dtype='object')"
      ]
     },
     "metadata": {},
     "output_type": "display_data"
    }
   ],
   "source": [
    "columns = nakuru_df.select_dtypes(include=('object', 'bool')).columns\n",
    "columns"
   ]
  },
  {
   "cell_type": "code",
   "execution_count": null,
   "metadata": {},
   "outputs": [
    {
     "name": "stdout",
     "output_type": "stream",
     "text": [
      "<class 'pandas.core.frame.DataFrame'>\n",
      "Index: 789 entries, 0 to 794\n",
      "Data columns (total 17 columns):\n",
      " #   Column                    Non-Null Count  Dtype  \n",
      "---  ------                    --------------  -----  \n",
      " 0   area                      789 non-null    object \n",
      " 1   age_of_respondent         789 non-null    int64  \n",
      " 2   chronic_illness           789 non-null    object \n",
      " 3   nhif_usage                789 non-null    object \n",
      " 4   nssf_usage                789 non-null    object \n",
      " 5   most_important_life_goal  789 non-null    object \n",
      " 6   income_source             789 non-null    object \n",
      " 7   avg_mnth_income           789 non-null    float64\n",
      " 8   hse_land_loan             789 non-null    object \n",
      " 9   securities_use            789 non-null    object \n",
      " 10  nearest_financial_prod    789 non-null    object \n",
      " 11  land_house_ownership      789 non-null    object \n",
      " 12  total_exp_per_month       789 non-null    int64  \n",
      " 13  electronic_device         789 non-null    object \n",
      " 14  motorvehicle_ownership    789 non-null    object \n",
      " 15  livestock_ownership       789 non-null    bool   \n",
      " 16  insurance                 789 non-null    object \n",
      "dtypes: bool(1), float64(1), int64(2), object(13)\n",
      "memory usage: 105.6+ KB\n"
     ]
    }
   ],
   "source": [
    "nakuru_df.info()"
   ]
  },
  {
   "cell_type": "code",
   "execution_count": null,
   "metadata": {},
   "outputs": [
    {
     "data": {
      "text/html": [
       "<div>\n",
       "<style scoped>\n",
       "    .dataframe tbody tr th:only-of-type {\n",
       "        vertical-align: middle;\n",
       "    }\n",
       "\n",
       "    .dataframe tbody tr th {\n",
       "        vertical-align: top;\n",
       "    }\n",
       "\n",
       "    .dataframe thead th {\n",
       "        text-align: right;\n",
       "    }\n",
       "</style>\n",
       "<table border=\"1\" class=\"dataframe\">\n",
       "  <thead>\n",
       "    <tr style=\"text-align: right;\">\n",
       "      <th></th>\n",
       "      <th>area</th>\n",
       "      <th>age_of_respondent</th>\n",
       "      <th>chronic_illness</th>\n",
       "      <th>nhif_usage</th>\n",
       "      <th>nssf_usage</th>\n",
       "      <th>most_important_life_goal</th>\n",
       "      <th>income_source</th>\n",
       "      <th>avg_mnth_income</th>\n",
       "      <th>hse_land_loan</th>\n",
       "      <th>securities_use</th>\n",
       "      <th>nearest_financial_prod</th>\n",
       "      <th>land_house_ownership</th>\n",
       "      <th>total_exp_per_month</th>\n",
       "      <th>electronic_device</th>\n",
       "      <th>motorvehicle_ownership</th>\n",
       "      <th>livestock_ownership</th>\n",
       "      <th>insurance</th>\n",
       "    </tr>\n",
       "  </thead>\n",
       "  <tbody>\n",
       "    <tr>\n",
       "      <th>0</th>\n",
       "      <td>Urban</td>\n",
       "      <td>16</td>\n",
       "      <td>No</td>\n",
       "      <td>No</td>\n",
       "      <td>No</td>\n",
       "      <td>Education</td>\n",
       "      <td>Family</td>\n",
       "      <td>8000.0</td>\n",
       "      <td>No</td>\n",
       "      <td>No</td>\n",
       "      <td>MMoney</td>\n",
       "      <td>No</td>\n",
       "      <td>7000</td>\n",
       "      <td>No</td>\n",
       "      <td>No</td>\n",
       "      <td>False</td>\n",
       "      <td>No</td>\n",
       "    </tr>\n",
       "    <tr>\n",
       "      <th>1</th>\n",
       "      <td>Urban</td>\n",
       "      <td>27</td>\n",
       "      <td>No</td>\n",
       "      <td>Yes</td>\n",
       "      <td>Yes</td>\n",
       "      <td>Food</td>\n",
       "      <td>Family</td>\n",
       "      <td>2000.0</td>\n",
       "      <td>No</td>\n",
       "      <td>No</td>\n",
       "      <td>MMoney</td>\n",
       "      <td>No</td>\n",
       "      <td>20000</td>\n",
       "      <td>Yes</td>\n",
       "      <td>Yes</td>\n",
       "      <td>False</td>\n",
       "      <td>Yes</td>\n",
       "    </tr>\n",
       "    <tr>\n",
       "      <th>2</th>\n",
       "      <td>Rural</td>\n",
       "      <td>22</td>\n",
       "      <td>No</td>\n",
       "      <td>No</td>\n",
       "      <td>No</td>\n",
       "      <td>Food</td>\n",
       "      <td>Casual_work</td>\n",
       "      <td>9872.0</td>\n",
       "      <td>No</td>\n",
       "      <td>No</td>\n",
       "      <td>MMoney</td>\n",
       "      <td>No</td>\n",
       "      <td>10000</td>\n",
       "      <td>No</td>\n",
       "      <td>Yes</td>\n",
       "      <td>False</td>\n",
       "      <td>No</td>\n",
       "    </tr>\n",
       "    <tr>\n",
       "      <th>3</th>\n",
       "      <td>Rural</td>\n",
       "      <td>29</td>\n",
       "      <td>No</td>\n",
       "      <td>No</td>\n",
       "      <td>No</td>\n",
       "      <td>Career</td>\n",
       "      <td>Family</td>\n",
       "      <td>9872.0</td>\n",
       "      <td>No</td>\n",
       "      <td>Yes</td>\n",
       "      <td>MMoney</td>\n",
       "      <td>No</td>\n",
       "      <td>20000</td>\n",
       "      <td>No</td>\n",
       "      <td>No</td>\n",
       "      <td>False</td>\n",
       "      <td>No</td>\n",
       "    </tr>\n",
       "    <tr>\n",
       "      <th>4</th>\n",
       "      <td>Urban</td>\n",
       "      <td>32</td>\n",
       "      <td>No</td>\n",
       "      <td>No</td>\n",
       "      <td>No</td>\n",
       "      <td>Career</td>\n",
       "      <td>Casual_work</td>\n",
       "      <td>8000.0</td>\n",
       "      <td>No</td>\n",
       "      <td>No</td>\n",
       "      <td>MMoney</td>\n",
       "      <td>No</td>\n",
       "      <td>10000</td>\n",
       "      <td>No</td>\n",
       "      <td>No</td>\n",
       "      <td>False</td>\n",
       "      <td>No</td>\n",
       "    </tr>\n",
       "    <tr>\n",
       "      <th>...</th>\n",
       "      <td>...</td>\n",
       "      <td>...</td>\n",
       "      <td>...</td>\n",
       "      <td>...</td>\n",
       "      <td>...</td>\n",
       "      <td>...</td>\n",
       "      <td>...</td>\n",
       "      <td>...</td>\n",
       "      <td>...</td>\n",
       "      <td>...</td>\n",
       "      <td>...</td>\n",
       "      <td>...</td>\n",
       "      <td>...</td>\n",
       "      <td>...</td>\n",
       "      <td>...</td>\n",
       "      <td>...</td>\n",
       "      <td>...</td>\n",
       "    </tr>\n",
       "    <tr>\n",
       "      <th>784</th>\n",
       "      <td>Urban</td>\n",
       "      <td>40</td>\n",
       "      <td>Yes</td>\n",
       "      <td>No</td>\n",
       "      <td>No</td>\n",
       "      <td>Health</td>\n",
       "      <td>Business</td>\n",
       "      <td>8000.0</td>\n",
       "      <td>No</td>\n",
       "      <td>No</td>\n",
       "      <td>MMoney</td>\n",
       "      <td>No</td>\n",
       "      <td>6000</td>\n",
       "      <td>No</td>\n",
       "      <td>No</td>\n",
       "      <td>False</td>\n",
       "      <td>No</td>\n",
       "    </tr>\n",
       "    <tr>\n",
       "      <th>785</th>\n",
       "      <td>Urban</td>\n",
       "      <td>31</td>\n",
       "      <td>No</td>\n",
       "      <td>No</td>\n",
       "      <td>No</td>\n",
       "      <td>Health</td>\n",
       "      <td>Family</td>\n",
       "      <td>7000.0</td>\n",
       "      <td>No</td>\n",
       "      <td>No</td>\n",
       "      <td>MMoney</td>\n",
       "      <td>No</td>\n",
       "      <td>25000</td>\n",
       "      <td>No</td>\n",
       "      <td>No</td>\n",
       "      <td>False</td>\n",
       "      <td>No</td>\n",
       "    </tr>\n",
       "    <tr>\n",
       "      <th>786</th>\n",
       "      <td>Urban</td>\n",
       "      <td>28</td>\n",
       "      <td>No</td>\n",
       "      <td>No</td>\n",
       "      <td>Yes</td>\n",
       "      <td>Food</td>\n",
       "      <td>Family</td>\n",
       "      <td>3000.0</td>\n",
       "      <td>No</td>\n",
       "      <td>No</td>\n",
       "      <td>MMoney</td>\n",
       "      <td>No</td>\n",
       "      <td>15000</td>\n",
       "      <td>Yes</td>\n",
       "      <td>No</td>\n",
       "      <td>False</td>\n",
       "      <td>Yes</td>\n",
       "    </tr>\n",
       "    <tr>\n",
       "      <th>787</th>\n",
       "      <td>Urban</td>\n",
       "      <td>46</td>\n",
       "      <td>No</td>\n",
       "      <td>No</td>\n",
       "      <td>No</td>\n",
       "      <td>Food</td>\n",
       "      <td>Casual_work</td>\n",
       "      <td>12000.0</td>\n",
       "      <td>No</td>\n",
       "      <td>No</td>\n",
       "      <td>MMoney</td>\n",
       "      <td>Yes</td>\n",
       "      <td>10000</td>\n",
       "      <td>Yes</td>\n",
       "      <td>No</td>\n",
       "      <td>False</td>\n",
       "      <td>No</td>\n",
       "    </tr>\n",
       "    <tr>\n",
       "      <th>788</th>\n",
       "      <td>Rural</td>\n",
       "      <td>25</td>\n",
       "      <td>No</td>\n",
       "      <td>No</td>\n",
       "      <td>No</td>\n",
       "      <td>Business</td>\n",
       "      <td>Agriculture</td>\n",
       "      <td>9872.0</td>\n",
       "      <td>No</td>\n",
       "      <td>No</td>\n",
       "      <td>MMoney</td>\n",
       "      <td>No</td>\n",
       "      <td>16000</td>\n",
       "      <td>No</td>\n",
       "      <td>Yes</td>\n",
       "      <td>True</td>\n",
       "      <td>No</td>\n",
       "    </tr>\n",
       "  </tbody>\n",
       "</table>\n",
       "<p>789 rows × 17 columns</p>\n",
       "</div>"
      ],
      "text/plain": [
       "      area  age_of_respondent chronic_illness nhif_usage nssf_usage  \\\n",
       "0    Urban                 16              No         No         No   \n",
       "1    Urban                 27              No        Yes        Yes   \n",
       "2    Rural                 22              No         No         No   \n",
       "3    Rural                 29              No         No         No   \n",
       "4    Urban                 32              No         No         No   \n",
       "..     ...                ...             ...        ...        ...   \n",
       "784  Urban                 40             Yes         No         No   \n",
       "785  Urban                 31              No         No         No   \n",
       "786  Urban                 28              No         No        Yes   \n",
       "787  Urban                 46              No         No         No   \n",
       "788  Rural                 25              No         No         No   \n",
       "\n",
       "    most_important_life_goal income_source  avg_mnth_income hse_land_loan  \\\n",
       "0                  Education        Family           8000.0            No   \n",
       "1                       Food        Family           2000.0            No   \n",
       "2                       Food   Casual_work           9872.0            No   \n",
       "3                     Career        Family           9872.0            No   \n",
       "4                     Career   Casual_work           8000.0            No   \n",
       "..                       ...           ...              ...           ...   \n",
       "784                   Health      Business           8000.0            No   \n",
       "785                   Health        Family           7000.0            No   \n",
       "786                     Food        Family           3000.0            No   \n",
       "787                     Food   Casual_work          12000.0            No   \n",
       "788                 Business   Agriculture           9872.0            No   \n",
       "\n",
       "    securities_use nearest_financial_prod land_house_ownership  \\\n",
       "0               No                 MMoney                   No   \n",
       "1               No                 MMoney                   No   \n",
       "2               No                 MMoney                   No   \n",
       "3              Yes                 MMoney                   No   \n",
       "4               No                 MMoney                   No   \n",
       "..             ...                    ...                  ...   \n",
       "784             No                 MMoney                   No   \n",
       "785             No                 MMoney                   No   \n",
       "786             No                 MMoney                   No   \n",
       "787             No                 MMoney                  Yes   \n",
       "788             No                 MMoney                   No   \n",
       "\n",
       "     total_exp_per_month electronic_device motorvehicle_ownership  \\\n",
       "0                   7000                No                     No   \n",
       "1                  20000               Yes                    Yes   \n",
       "2                  10000                No                    Yes   \n",
       "3                  20000                No                     No   \n",
       "4                  10000                No                     No   \n",
       "..                   ...               ...                    ...   \n",
       "784                 6000                No                     No   \n",
       "785                25000                No                     No   \n",
       "786                15000               Yes                     No   \n",
       "787                10000               Yes                     No   \n",
       "788                16000                No                    Yes   \n",
       "\n",
       "     livestock_ownership insurance  \n",
       "0                  False        No  \n",
       "1                  False       Yes  \n",
       "2                  False        No  \n",
       "3                  False        No  \n",
       "4                  False        No  \n",
       "..                   ...       ...  \n",
       "784                False        No  \n",
       "785                False        No  \n",
       "786                False       Yes  \n",
       "787                False        No  \n",
       "788                 True        No  \n",
       "\n",
       "[789 rows x 17 columns]"
      ]
     },
     "metadata": {},
     "output_type": "display_data"
    }
   ],
   "source": [
    "nakuru_df.reset_index(drop=True)"
   ]
  },
  {
   "cell_type": "code",
   "execution_count": null,
   "metadata": {},
   "outputs": [],
   "source": [
    "nakuru_dff = nakuru_df.copy()"
   ]
  },
  {
   "cell_type": "markdown",
   "metadata": {},
   "source": [
    "Scale the numerical columns:"
   ]
  },
  {
   "cell_type": "code",
   "execution_count": null,
   "metadata": {},
   "outputs": [],
   "source": [
    "scaler = StandardScaler()\n",
    "scaled_data = scaler.fit_transform(nakuru_dff[['age_of_respondent', 'avg_mnth_income', 'total_exp_per_month']])"
   ]
  },
  {
   "cell_type": "code",
   "execution_count": null,
   "metadata": {},
   "outputs": [],
   "source": [
    "# joblib.dump(scaler, 'scaler.joblib')"
   ]
  },
  {
   "cell_type": "code",
   "execution_count": null,
   "metadata": {},
   "outputs": [],
   "source": [
    "nakuru_dff[['age_of_respondent', 'avg_mnth_income', 'total_exp_per_month']] = scaled_data"
   ]
  },
  {
   "cell_type": "code",
   "execution_count": null,
   "metadata": {},
   "outputs": [
    {
     "name": "stdout",
     "output_type": "stream",
     "text": [
      "<class 'pandas.core.frame.DataFrame'>\n",
      "Index: 789 entries, 0 to 794\n",
      "Data columns (total 17 columns):\n",
      " #   Column                    Non-Null Count  Dtype  \n",
      "---  ------                    --------------  -----  \n",
      " 0   area                      789 non-null    object \n",
      " 1   age_of_respondent         789 non-null    float64\n",
      " 2   chronic_illness           789 non-null    object \n",
      " 3   nhif_usage                789 non-null    object \n",
      " 4   nssf_usage                789 non-null    object \n",
      " 5   most_important_life_goal  789 non-null    object \n",
      " 6   income_source             789 non-null    object \n",
      " 7   avg_mnth_income           789 non-null    float64\n",
      " 8   hse_land_loan             789 non-null    object \n",
      " 9   securities_use            789 non-null    object \n",
      " 10  nearest_financial_prod    789 non-null    object \n",
      " 11  land_house_ownership      789 non-null    object \n",
      " 12  total_exp_per_month       789 non-null    float64\n",
      " 13  electronic_device         789 non-null    object \n",
      " 14  motorvehicle_ownership    789 non-null    object \n",
      " 15  livestock_ownership       789 non-null    bool   \n",
      " 16  insurance                 789 non-null    object \n",
      "dtypes: bool(1), float64(3), object(13)\n",
      "memory usage: 105.6+ KB\n"
     ]
    }
   ],
   "source": [
    "nakuru_dff.info()"
   ]
  },
  {
   "cell_type": "code",
   "execution_count": null,
   "metadata": {},
   "outputs": [],
   "source": [
    "nakuru_dff.reset_index(drop=True, inplace=True)"
   ]
  },
  {
   "cell_type": "code",
   "execution_count": null,
   "metadata": {},
   "outputs": [
    {
     "name": "stdout",
     "output_type": "stream",
     "text": [
      "<class 'pandas.core.frame.DataFrame'>\n",
      "RangeIndex: 789 entries, 0 to 788\n",
      "Data columns (total 20 columns):\n",
      " #   Column                              Non-Null Count  Dtype  \n",
      "---  ------                              --------------  -----  \n",
      " 0   most_important_life_goal_Assets     789 non-null    float64\n",
      " 1   most_important_life_goal_Business   789 non-null    float64\n",
      " 2   most_important_life_goal_Career     789 non-null    float64\n",
      " 3   most_important_life_goal_Education  789 non-null    float64\n",
      " 4   most_important_life_goal_Food       789 non-null    float64\n",
      " 5   most_important_life_goal_Health     789 non-null    float64\n",
      " 6   most_important_life_goal_Home       789 non-null    float64\n",
      " 7   area_Rural                          789 non-null    float64\n",
      " 8   area_Urban                          789 non-null    float64\n",
      " 9   income_source_Agriculture           789 non-null    float64\n",
      " 10  income_source_Aid                   789 non-null    float64\n",
      " 11  income_source_Business              789 non-null    float64\n",
      " 12  income_source_Casual_work           789 non-null    float64\n",
      " 13  income_source_Employment            789 non-null    float64\n",
      " 14  income_source_Family                789 non-null    float64\n",
      " 15  income_source_Pension               789 non-null    float64\n",
      " 16  income_source_Renting               789 non-null    float64\n",
      " 17  nearest_financial_prod_Bank         789 non-null    float64\n",
      " 18  nearest_financial_prod_Insurance    789 non-null    float64\n",
      " 19  nearest_financial_prod_MMoney       789 non-null    float64\n",
      "dtypes: float64(20)\n",
      "memory usage: 123.4 KB\n",
      "None\n"
     ]
    }
   ],
   "source": [
    "categorical = ['most_important_life_goal', 'area', 'income_source', 'nearest_financial_prod']\n",
    "\n",
    "encoder = OneHotEncoder(sparse_output=False)\n",
    "encoded = encoder.fit_transform(nakuru_dff[categorical])\n",
    "one_hot_df = pd.DataFrame(encoded, \n",
    "                          columns=encoder.get_feature_names_out(categorical))\n",
    "print(one_hot_df.info())\n"
   ]
  },
  {
   "cell_type": "code",
   "execution_count": null,
   "metadata": {},
   "outputs": [
    {
     "data": {
      "text/plain": [
       "['encoder.joblib']"
      ]
     },
     "metadata": {},
     "output_type": "display_data"
    }
   ],
   "source": [
    "# joblib.dump(encoder, 'encoder.joblib')"
   ]
  },
  {
   "cell_type": "code",
   "execution_count": null,
   "metadata": {},
   "outputs": [
    {
     "data": {
      "text/plain": [
       "most_important_life_goal_Assets       0\n",
       "most_important_life_goal_Business     0\n",
       "most_important_life_goal_Career       0\n",
       "most_important_life_goal_Education    0\n",
       "most_important_life_goal_Food         0\n",
       "most_important_life_goal_Health       0\n",
       "most_important_life_goal_Home         0\n",
       "area_Rural                            0\n",
       "area_Urban                            0\n",
       "income_source_Agriculture             0\n",
       "income_source_Aid                     0\n",
       "income_source_Business                0\n",
       "income_source_Casual_work             0\n",
       "income_source_Employment              0\n",
       "income_source_Family                  0\n",
       "income_source_Pension                 0\n",
       "income_source_Renting                 0\n",
       "nearest_financial_prod_Bank           0\n",
       "nearest_financial_prod_Insurance      0\n",
       "nearest_financial_prod_MMoney         0\n",
       "dtype: int64"
      ]
     },
     "metadata": {},
     "output_type": "display_data"
    }
   ],
   "source": [
    "one_hot_df.isnull().sum()"
   ]
  },
  {
   "cell_type": "code",
   "execution_count": null,
   "metadata": {},
   "outputs": [],
   "source": [
    "nakuru_dff.drop(categorical, axis=1, inplace=True)"
   ]
  },
  {
   "cell_type": "code",
   "execution_count": null,
   "metadata": {},
   "outputs": [
    {
     "data": {
      "text/plain": [
       "age_of_respondent         0\n",
       "chronic_illness           0\n",
       "nhif_usage                0\n",
       "nssf_usage                0\n",
       "avg_mnth_income           0\n",
       "hse_land_loan             0\n",
       "securities_use            0\n",
       "land_house_ownership      0\n",
       "total_exp_per_month       0\n",
       "electronic_device         0\n",
       "motorvehicle_ownership    0\n",
       "livestock_ownership       0\n",
       "insurance                 0\n",
       "dtype: int64"
      ]
     },
     "metadata": {},
     "output_type": "display_data"
    }
   ],
   "source": [
    "nakuru_dff.isna().sum()"
   ]
  },
  {
   "cell_type": "code",
   "execution_count": null,
   "metadata": {},
   "outputs": [
    {
     "name": "stdout",
     "output_type": "stream",
     "text": [
      "<class 'pandas.core.frame.DataFrame'>\n",
      "RangeIndex: 789 entries, 0 to 788\n",
      "Data columns (total 33 columns):\n",
      " #   Column                              Non-Null Count  Dtype  \n",
      "---  ------                              --------------  -----  \n",
      " 0   age_of_respondent                   789 non-null    float64\n",
      " 1   chronic_illness                     789 non-null    object \n",
      " 2   nhif_usage                          789 non-null    object \n",
      " 3   nssf_usage                          789 non-null    object \n",
      " 4   avg_mnth_income                     789 non-null    float64\n",
      " 5   hse_land_loan                       789 non-null    object \n",
      " 6   securities_use                      789 non-null    object \n",
      " 7   land_house_ownership                789 non-null    object \n",
      " 8   total_exp_per_month                 789 non-null    float64\n",
      " 9   electronic_device                   789 non-null    object \n",
      " 10  motorvehicle_ownership              789 non-null    object \n",
      " 11  livestock_ownership                 789 non-null    bool   \n",
      " 12  insurance                           789 non-null    object \n",
      " 13  most_important_life_goal_Assets     789 non-null    float64\n",
      " 14  most_important_life_goal_Business   789 non-null    float64\n",
      " 15  most_important_life_goal_Career     789 non-null    float64\n",
      " 16  most_important_life_goal_Education  789 non-null    float64\n",
      " 17  most_important_life_goal_Food       789 non-null    float64\n",
      " 18  most_important_life_goal_Health     789 non-null    float64\n",
      " 19  most_important_life_goal_Home       789 non-null    float64\n",
      " 20  area_Rural                          789 non-null    float64\n",
      " 21  area_Urban                          789 non-null    float64\n",
      " 22  income_source_Agriculture           789 non-null    float64\n",
      " 23  income_source_Aid                   789 non-null    float64\n",
      " 24  income_source_Business              789 non-null    float64\n",
      " 25  income_source_Casual_work           789 non-null    float64\n",
      " 26  income_source_Employment            789 non-null    float64\n",
      " 27  income_source_Family                789 non-null    float64\n",
      " 28  income_source_Pension               789 non-null    float64\n",
      " 29  income_source_Renting               789 non-null    float64\n",
      " 30  nearest_financial_prod_Bank         789 non-null    float64\n",
      " 31  nearest_financial_prod_Insurance    789 non-null    float64\n",
      " 32  nearest_financial_prod_MMoney       789 non-null    float64\n",
      "dtypes: bool(1), float64(23), object(9)\n",
      "memory usage: 198.1+ KB\n"
     ]
    }
   ],
   "source": [
    "nakuru_dff = pd.concat([nakuru_dff, one_hot_df], axis=1)\n",
    "\n",
    "nakuru_dff.info()"
   ]
  },
  {
   "cell_type": "code",
   "execution_count": null,
   "metadata": {},
   "outputs": [],
   "source": [
    "nakuru_dff.reset_index(drop=True, inplace=True)"
   ]
  },
  {
   "cell_type": "code",
   "execution_count": null,
   "metadata": {},
   "outputs": [
    {
     "data": {
      "text/plain": [
       "age_of_respondent                     0\n",
       "chronic_illness                       0\n",
       "nhif_usage                            0\n",
       "nssf_usage                            0\n",
       "avg_mnth_income                       0\n",
       "hse_land_loan                         0\n",
       "securities_use                        0\n",
       "land_house_ownership                  0\n",
       "total_exp_per_month                   0\n",
       "electronic_device                     0\n",
       "motorvehicle_ownership                0\n",
       "livestock_ownership                   0\n",
       "insurance                             0\n",
       "most_important_life_goal_Assets       0\n",
       "most_important_life_goal_Business     0\n",
       "most_important_life_goal_Career       0\n",
       "most_important_life_goal_Education    0\n",
       "most_important_life_goal_Food         0\n",
       "most_important_life_goal_Health       0\n",
       "most_important_life_goal_Home         0\n",
       "area_Rural                            0\n",
       "area_Urban                            0\n",
       "income_source_Agriculture             0\n",
       "income_source_Aid                     0\n",
       "income_source_Business                0\n",
       "income_source_Casual_work             0\n",
       "income_source_Employment              0\n",
       "income_source_Family                  0\n",
       "income_source_Pension                 0\n",
       "income_source_Renting                 0\n",
       "nearest_financial_prod_Bank           0\n",
       "nearest_financial_prod_Insurance      0\n",
       "nearest_financial_prod_MMoney         0\n",
       "dtype: int64"
      ]
     },
     "metadata": {},
     "output_type": "display_data"
    }
   ],
   "source": [
    "nakuru_dff.isna().sum()"
   ]
  },
  {
   "cell_type": "code",
   "execution_count": null,
   "metadata": {},
   "outputs": [
    {
     "data": {
      "text/plain": [
       "age_of_respondent                     [-1.3570120175746498, -0.6798713690073879, -0....\n",
       "chronic_illness                                                               [No, Yes]\n",
       "nhif_usage                                                                    [No, Yes]\n",
       "nssf_usage                                                                    [No, Yes]\n",
       "avg_mnth_income                       [-0.17832794077424063, -0.756866792944199, 0.0...\n",
       "hse_land_loan                                                                 [No, Yes]\n",
       "securities_use                                                                [No, Yes]\n",
       "land_house_ownership                                                          [No, Yes]\n",
       "total_exp_per_month                   [-0.49301628319040974, 1.1443849235005525, -0....\n",
       "electronic_device                                                             [No, Yes]\n",
       "motorvehicle_ownership                                                        [No, Yes]\n",
       "livestock_ownership                                                       [False, True]\n",
       "insurance                                                                     [No, Yes]\n",
       "most_important_life_goal_Assets                                              [0.0, 1.0]\n",
       "most_important_life_goal_Business                                            [0.0, 1.0]\n",
       "most_important_life_goal_Career                                              [0.0, 1.0]\n",
       "most_important_life_goal_Education                                           [1.0, 0.0]\n",
       "most_important_life_goal_Food                                                [0.0, 1.0]\n",
       "most_important_life_goal_Health                                              [0.0, 1.0]\n",
       "most_important_life_goal_Home                                                [0.0, 1.0]\n",
       "area_Rural                                                                   [0.0, 1.0]\n",
       "area_Urban                                                                   [1.0, 0.0]\n",
       "income_source_Agriculture                                                    [0.0, 1.0]\n",
       "income_source_Aid                                                            [0.0, 1.0]\n",
       "income_source_Business                                                       [0.0, 1.0]\n",
       "income_source_Casual_work                                                    [0.0, 1.0]\n",
       "income_source_Employment                                                     [0.0, 1.0]\n",
       "income_source_Family                                                         [1.0, 0.0]\n",
       "income_source_Pension                                                        [0.0, 1.0]\n",
       "income_source_Renting                                                        [0.0, 1.0]\n",
       "nearest_financial_prod_Bank                                                  [0.0, 1.0]\n",
       "nearest_financial_prod_Insurance                                             [0.0, 1.0]\n",
       "nearest_financial_prod_MMoney                                                [1.0, 0.0]\n",
       "dtype: object"
      ]
     },
     "metadata": {},
     "output_type": "display_data"
    }
   ],
   "source": [
    "pd.Series({col:nakuru_dff[col].unique() for col in nakuru_dff})"
   ]
  },
  {
   "cell_type": "code",
   "execution_count": null,
   "metadata": {},
   "outputs": [],
   "source": [
    "# joblib.dump(encoder, 'encoder.joblib')"
   ]
  },
  {
   "cell_type": "code",
   "execution_count": null,
   "metadata": {},
   "outputs": [],
   "source": [
    "# nakuru_dff.drop(columns='index', inplace=True)\n",
    "# nakuru_dff.reset_index(drop=True)"
   ]
  },
  {
   "cell_type": "code",
   "execution_count": null,
   "metadata": {},
   "outputs": [
    {
     "data": {
      "text/html": [
       "<div>\n",
       "<style scoped>\n",
       "    .dataframe tbody tr th:only-of-type {\n",
       "        vertical-align: middle;\n",
       "    }\n",
       "\n",
       "    .dataframe tbody tr th {\n",
       "        vertical-align: top;\n",
       "    }\n",
       "\n",
       "    .dataframe thead th {\n",
       "        text-align: right;\n",
       "    }\n",
       "</style>\n",
       "<table border=\"1\" class=\"dataframe\">\n",
       "  <thead>\n",
       "    <tr style=\"text-align: right;\">\n",
       "      <th></th>\n",
       "      <th>age_of_respondent</th>\n",
       "      <th>chronic_illness</th>\n",
       "      <th>nhif_usage</th>\n",
       "      <th>nssf_usage</th>\n",
       "      <th>avg_mnth_income</th>\n",
       "      <th>hse_land_loan</th>\n",
       "      <th>securities_use</th>\n",
       "      <th>land_house_ownership</th>\n",
       "      <th>total_exp_per_month</th>\n",
       "      <th>electronic_device</th>\n",
       "      <th>...</th>\n",
       "      <th>income_source_Aid</th>\n",
       "      <th>income_source_Business</th>\n",
       "      <th>income_source_Casual_work</th>\n",
       "      <th>income_source_Employment</th>\n",
       "      <th>income_source_Family</th>\n",
       "      <th>income_source_Pension</th>\n",
       "      <th>income_source_Renting</th>\n",
       "      <th>nearest_financial_prod_Bank</th>\n",
       "      <th>nearest_financial_prod_Insurance</th>\n",
       "      <th>nearest_financial_prod_MMoney</th>\n",
       "    </tr>\n",
       "  </thead>\n",
       "  <tbody>\n",
       "    <tr>\n",
       "      <th>0</th>\n",
       "      <td>-1.357012</td>\n",
       "      <td>True</td>\n",
       "      <td>True</td>\n",
       "      <td>True</td>\n",
       "      <td>-0.178328</td>\n",
       "      <td>True</td>\n",
       "      <td>True</td>\n",
       "      <td>True</td>\n",
       "      <td>-0.493016</td>\n",
       "      <td>True</td>\n",
       "      <td>...</td>\n",
       "      <td>0.0</td>\n",
       "      <td>0.0</td>\n",
       "      <td>0.0</td>\n",
       "      <td>0.0</td>\n",
       "      <td>1.0</td>\n",
       "      <td>0.0</td>\n",
       "      <td>0.0</td>\n",
       "      <td>0.0</td>\n",
       "      <td>0.0</td>\n",
       "      <td>1.0</td>\n",
       "    </tr>\n",
       "    <tr>\n",
       "      <th>1</th>\n",
       "      <td>-0.679871</td>\n",
       "      <td>True</td>\n",
       "      <td>True</td>\n",
       "      <td>True</td>\n",
       "      <td>-0.756867</td>\n",
       "      <td>True</td>\n",
       "      <td>True</td>\n",
       "      <td>True</td>\n",
       "      <td>1.144385</td>\n",
       "      <td>True</td>\n",
       "      <td>...</td>\n",
       "      <td>0.0</td>\n",
       "      <td>0.0</td>\n",
       "      <td>0.0</td>\n",
       "      <td>0.0</td>\n",
       "      <td>1.0</td>\n",
       "      <td>0.0</td>\n",
       "      <td>0.0</td>\n",
       "      <td>0.0</td>\n",
       "      <td>0.0</td>\n",
       "      <td>1.0</td>\n",
       "    </tr>\n",
       "    <tr>\n",
       "      <th>2</th>\n",
       "      <td>-0.987663</td>\n",
       "      <td>True</td>\n",
       "      <td>True</td>\n",
       "      <td>True</td>\n",
       "      <td>0.002176</td>\n",
       "      <td>True</td>\n",
       "      <td>True</td>\n",
       "      <td>True</td>\n",
       "      <td>-0.115154</td>\n",
       "      <td>True</td>\n",
       "      <td>...</td>\n",
       "      <td>0.0</td>\n",
       "      <td>0.0</td>\n",
       "      <td>1.0</td>\n",
       "      <td>0.0</td>\n",
       "      <td>0.0</td>\n",
       "      <td>0.0</td>\n",
       "      <td>0.0</td>\n",
       "      <td>0.0</td>\n",
       "      <td>0.0</td>\n",
       "      <td>1.0</td>\n",
       "    </tr>\n",
       "    <tr>\n",
       "      <th>3</th>\n",
       "      <td>-0.556755</td>\n",
       "      <td>True</td>\n",
       "      <td>True</td>\n",
       "      <td>True</td>\n",
       "      <td>0.002176</td>\n",
       "      <td>True</td>\n",
       "      <td>True</td>\n",
       "      <td>True</td>\n",
       "      <td>1.144385</td>\n",
       "      <td>True</td>\n",
       "      <td>...</td>\n",
       "      <td>0.0</td>\n",
       "      <td>0.0</td>\n",
       "      <td>0.0</td>\n",
       "      <td>0.0</td>\n",
       "      <td>1.0</td>\n",
       "      <td>0.0</td>\n",
       "      <td>0.0</td>\n",
       "      <td>0.0</td>\n",
       "      <td>0.0</td>\n",
       "      <td>1.0</td>\n",
       "    </tr>\n",
       "    <tr>\n",
       "      <th>4</th>\n",
       "      <td>-0.372080</td>\n",
       "      <td>True</td>\n",
       "      <td>True</td>\n",
       "      <td>True</td>\n",
       "      <td>-0.178328</td>\n",
       "      <td>True</td>\n",
       "      <td>True</td>\n",
       "      <td>True</td>\n",
       "      <td>-0.115154</td>\n",
       "      <td>True</td>\n",
       "      <td>...</td>\n",
       "      <td>0.0</td>\n",
       "      <td>0.0</td>\n",
       "      <td>1.0</td>\n",
       "      <td>0.0</td>\n",
       "      <td>0.0</td>\n",
       "      <td>0.0</td>\n",
       "      <td>0.0</td>\n",
       "      <td>0.0</td>\n",
       "      <td>0.0</td>\n",
       "      <td>1.0</td>\n",
       "    </tr>\n",
       "  </tbody>\n",
       "</table>\n",
       "<p>5 rows × 33 columns</p>\n",
       "</div>"
      ],
      "text/plain": [
       "   age_of_respondent  chronic_illness  nhif_usage  nssf_usage  \\\n",
       "0          -1.357012             True        True        True   \n",
       "1          -0.679871             True        True        True   \n",
       "2          -0.987663             True        True        True   \n",
       "3          -0.556755             True        True        True   \n",
       "4          -0.372080             True        True        True   \n",
       "\n",
       "   avg_mnth_income  hse_land_loan  securities_use  land_house_ownership  \\\n",
       "0        -0.178328           True            True                  True   \n",
       "1        -0.756867           True            True                  True   \n",
       "2         0.002176           True            True                  True   \n",
       "3         0.002176           True            True                  True   \n",
       "4        -0.178328           True            True                  True   \n",
       "\n",
       "   total_exp_per_month  electronic_device  ...  income_source_Aid  \\\n",
       "0            -0.493016               True  ...                0.0   \n",
       "1             1.144385               True  ...                0.0   \n",
       "2            -0.115154               True  ...                0.0   \n",
       "3             1.144385               True  ...                0.0   \n",
       "4            -0.115154               True  ...                0.0   \n",
       "\n",
       "   income_source_Business  income_source_Casual_work  \\\n",
       "0                     0.0                        0.0   \n",
       "1                     0.0                        0.0   \n",
       "2                     0.0                        1.0   \n",
       "3                     0.0                        0.0   \n",
       "4                     0.0                        1.0   \n",
       "\n",
       "   income_source_Employment  income_source_Family  income_source_Pension  \\\n",
       "0                       0.0                   1.0                    0.0   \n",
       "1                       0.0                   1.0                    0.0   \n",
       "2                       0.0                   0.0                    0.0   \n",
       "3                       0.0                   1.0                    0.0   \n",
       "4                       0.0                   0.0                    0.0   \n",
       "\n",
       "   income_source_Renting  nearest_financial_prod_Bank  \\\n",
       "0                    0.0                          0.0   \n",
       "1                    0.0                          0.0   \n",
       "2                    0.0                          0.0   \n",
       "3                    0.0                          0.0   \n",
       "4                    0.0                          0.0   \n",
       "\n",
       "   nearest_financial_prod_Insurance  nearest_financial_prod_MMoney  \n",
       "0                               0.0                            1.0  \n",
       "1                               0.0                            1.0  \n",
       "2                               0.0                            1.0  \n",
       "3                               0.0                            1.0  \n",
       "4                               0.0                            1.0  \n",
       "\n",
       "[5 rows x 33 columns]"
      ]
     },
     "metadata": {},
     "output_type": "display_data"
    }
   ],
   "source": [
    "result = [x for x in columns if x not in categorical]\n",
    "\n",
    "\n",
    "for col in result:\n",
    "   nakuru_dff[col] = nakuru_dff[col].astype(bool)\n",
    "\n",
    "nakuru_dff.head()"
   ]
  },
  {
   "cell_type": "code",
   "execution_count": null,
   "metadata": {},
   "outputs": [],
   "source": [
    "# nakuru_dff.drop('Clusters', axis=1, inplace=True)"
   ]
  },
  {
   "cell_type": "code",
   "execution_count": null,
   "metadata": {},
   "outputs": [
    {
     "name": "stdout",
     "output_type": "stream",
     "text": [
      "-------------------------------------------------\n",
      "Cost:  865.526410617654\n",
      "Silhoutte Score:  0.19635907744652223\n",
      "Model trained and saved successfully. Number of samples in each cluster:\n",
      "Cluster 2: 0\n",
      "-------------------------------------------------\n",
      "Cost:  746.4476814940949\n",
      "Silhoutte Score:  0.0772473426434299\n",
      "Model trained and saved successfully. Number of samples in each cluster:\n",
      "Cluster 3: 0\n",
      "-------------------------------------------------\n",
      "Cost:  684.0251218872304\n",
      "Silhoutte Score:  0.11201076625081392\n",
      "Model trained and saved successfully. Number of samples in each cluster:\n",
      "Cluster 4: 0\n",
      "-------------------------------------------------\n",
      "Cost:  639.51193119974\n",
      "Silhoutte Score:  0.07195276912680686\n",
      "Model trained and saved successfully. Number of samples in each cluster:\n",
      "Cluster 5: 0\n",
      "-------------------------------------------------\n",
      "Cost:  614.5723144880583\n",
      "Silhoutte Score:  0.04909439376247161\n",
      "Model trained and saved successfully. Number of samples in each cluster:\n",
      "Cluster 6: 0\n",
      "-------------------------------------------------\n",
      "Cost:  591.5129292614679\n",
      "Silhoutte Score:  0.051334864055943744\n",
      "Model trained and saved successfully. Number of samples in each cluster:\n",
      "Cluster 7: 0\n"
     ]
    }
   ],
   "source": [
    "num_column_indices = [0, 3, 5]\n",
    "\n",
    "cat_column_indices = []\n",
    "for i in range(len(nakuru_dff.columns)):\n",
    "        if i not in num_column_indices:\n",
    "            cat_column_indices.append(i)\n",
    "\n",
    "for i in [2, 3, 4, 5, 6, 7]:\n",
    "    model = KPrototypes(n_clusters=i, init='Huang', random_state=42, n_jobs=-1)\n",
    "    clusters = model.fit_predict(nakuru_dff, categorical=cat_column_indices)\n",
    "\n",
    "    score = silhouette_score(nakuru_dff, clusters, metric='euclidean')\n",
    "    print(\"-------------------------------------------------\")\n",
    "    print('Cost: ', model.cost_)\n",
    "    print('Silhoutte Score: ', score)\n",
    "    print(\"Model trained and saved successfully. Number of samples in each cluster:\")\n",
    "    # for i in range(n_clusters):\n",
    "    print(f\"Cluster {i}: {sum(clusters == i)}\")"
   ]
  },
  {
   "cell_type": "code",
   "execution_count": null,
   "metadata": {},
   "outputs": [],
   "source": [
    "model = KPrototypes(n_clusters=5, init='Huang', random_state=42, n_jobs=-1)\n",
    "clusters = model.fit_predict(nakuru_dff, categorical=cat_column_indices)"
   ]
  },
  {
   "cell_type": "code",
   "execution_count": null,
   "metadata": {},
   "outputs": [
    {
     "data": {
      "text/plain": [
       "['new_model.joblib']"
      ]
     },
     "metadata": {},
     "output_type": "display_data"
    }
   ],
   "source": [
    "# joblib.dump(model, 'new_model.joblib')"
   ]
  },
  {
   "cell_type": "code",
   "execution_count": null,
   "metadata": {},
   "outputs": [
    {
     "data": {
      "text/plain": [
       "789"
      ]
     },
     "metadata": {},
     "output_type": "display_data"
    }
   ],
   "source": [
    "len(clusters)"
   ]
  },
  {
   "cell_type": "code",
   "execution_count": null,
   "metadata": {},
   "outputs": [],
   "source": [
    "# nakuru_df.drop(columns=['hse_land_loan', 'securities_use', 'nearest_financial_prod', 'nssf_usage'], inplace=True)"
   ]
  },
  {
   "cell_type": "code",
   "execution_count": null,
   "metadata": {},
   "outputs": [
    {
     "name": "stdout",
     "output_type": "stream",
     "text": [
      "<class 'pandas.core.frame.DataFrame'>\n",
      "Index: 789 entries, 0 to 794\n",
      "Data columns (total 18 columns):\n",
      " #   Column                    Non-Null Count  Dtype  \n",
      "---  ------                    --------------  -----  \n",
      " 0   area                      789 non-null    object \n",
      " 1   age_of_respondent         789 non-null    int64  \n",
      " 2   chronic_illness           789 non-null    object \n",
      " 3   nhif_usage                789 non-null    object \n",
      " 4   nssf_usage                789 non-null    object \n",
      " 5   most_important_life_goal  789 non-null    object \n",
      " 6   income_source             789 non-null    object \n",
      " 7   avg_mnth_income           789 non-null    float64\n",
      " 8   hse_land_loan             789 non-null    object \n",
      " 9   securities_use            789 non-null    object \n",
      " 10  nearest_financial_prod    789 non-null    object \n",
      " 11  land_house_ownership      789 non-null    object \n",
      " 12  total_exp_per_month       789 non-null    int64  \n",
      " 13  electronic_device         789 non-null    object \n",
      " 14  motorvehicle_ownership    789 non-null    object \n",
      " 15  livestock_ownership       789 non-null    bool   \n",
      " 16  insurance                 789 non-null    object \n",
      " 17  Clusters                  789 non-null    uint16 \n",
      "dtypes: bool(1), float64(1), int64(2), object(13), uint16(1)\n",
      "memory usage: 107.1+ KB\n"
     ]
    }
   ],
   "source": [
    "nakuru_df['Clusters'] = clusters\n",
    "\n",
    "nakuru_df.info()"
   ]
  },
  {
   "cell_type": "code",
   "execution_count": null,
   "metadata": {},
   "outputs": [
    {
     "data": {
      "text/html": [
       "<div>\n",
       "<style scoped>\n",
       "    .dataframe tbody tr th:only-of-type {\n",
       "        vertical-align: middle;\n",
       "    }\n",
       "\n",
       "    .dataframe tbody tr th {\n",
       "        vertical-align: top;\n",
       "    }\n",
       "\n",
       "    .dataframe thead th {\n",
       "        text-align: right;\n",
       "    }\n",
       "</style>\n",
       "<table border=\"1\" class=\"dataframe\">\n",
       "  <thead>\n",
       "    <tr style=\"text-align: right;\">\n",
       "      <th></th>\n",
       "      <th>area</th>\n",
       "      <th>age_of_respondent</th>\n",
       "      <th>chronic_illness</th>\n",
       "      <th>nhif_usage</th>\n",
       "      <th>nssf_usage</th>\n",
       "      <th>most_important_life_goal</th>\n",
       "      <th>income_source</th>\n",
       "      <th>avg_mnth_income</th>\n",
       "      <th>hse_land_loan</th>\n",
       "      <th>securities_use</th>\n",
       "      <th>nearest_financial_prod</th>\n",
       "      <th>land_house_ownership</th>\n",
       "      <th>total_exp_per_month</th>\n",
       "      <th>electronic_device</th>\n",
       "      <th>motorvehicle_ownership</th>\n",
       "      <th>livestock_ownership</th>\n",
       "      <th>insurance</th>\n",
       "      <th>Clusters</th>\n",
       "    </tr>\n",
       "  </thead>\n",
       "  <tbody>\n",
       "    <tr>\n",
       "      <th>3</th>\n",
       "      <td>Rural</td>\n",
       "      <td>29</td>\n",
       "      <td>No</td>\n",
       "      <td>No</td>\n",
       "      <td>No</td>\n",
       "      <td>Career</td>\n",
       "      <td>Family</td>\n",
       "      <td>9872.0</td>\n",
       "      <td>No</td>\n",
       "      <td>Yes</td>\n",
       "      <td>MMoney</td>\n",
       "      <td>No</td>\n",
       "      <td>20000</td>\n",
       "      <td>No</td>\n",
       "      <td>No</td>\n",
       "      <td>False</td>\n",
       "      <td>No</td>\n",
       "      <td>4</td>\n",
       "    </tr>\n",
       "    <tr>\n",
       "      <th>5</th>\n",
       "      <td>Rural</td>\n",
       "      <td>35</td>\n",
       "      <td>No</td>\n",
       "      <td>No</td>\n",
       "      <td>No</td>\n",
       "      <td>Career</td>\n",
       "      <td>Casual_work</td>\n",
       "      <td>4000.0</td>\n",
       "      <td>No</td>\n",
       "      <td>No</td>\n",
       "      <td>MMoney</td>\n",
       "      <td>Yes</td>\n",
       "      <td>5000</td>\n",
       "      <td>No</td>\n",
       "      <td>No</td>\n",
       "      <td>True</td>\n",
       "      <td>No</td>\n",
       "      <td>4</td>\n",
       "    </tr>\n",
       "    <tr>\n",
       "      <th>13</th>\n",
       "      <td>Rural</td>\n",
       "      <td>30</td>\n",
       "      <td>No</td>\n",
       "      <td>No</td>\n",
       "      <td>No</td>\n",
       "      <td>Health</td>\n",
       "      <td>Agriculture</td>\n",
       "      <td>5000.0</td>\n",
       "      <td>No</td>\n",
       "      <td>No</td>\n",
       "      <td>MMoney</td>\n",
       "      <td>No</td>\n",
       "      <td>4000</td>\n",
       "      <td>No</td>\n",
       "      <td>No</td>\n",
       "      <td>True</td>\n",
       "      <td>No</td>\n",
       "      <td>4</td>\n",
       "    </tr>\n",
       "    <tr>\n",
       "      <th>16</th>\n",
       "      <td>Rural</td>\n",
       "      <td>17</td>\n",
       "      <td>No</td>\n",
       "      <td>No</td>\n",
       "      <td>No</td>\n",
       "      <td>Food</td>\n",
       "      <td>Casual_work</td>\n",
       "      <td>2000.0</td>\n",
       "      <td>No</td>\n",
       "      <td>No</td>\n",
       "      <td>MMoney</td>\n",
       "      <td>No</td>\n",
       "      <td>5000</td>\n",
       "      <td>No</td>\n",
       "      <td>No</td>\n",
       "      <td>True</td>\n",
       "      <td>No</td>\n",
       "      <td>4</td>\n",
       "    </tr>\n",
       "    <tr>\n",
       "      <th>20</th>\n",
       "      <td>Rural</td>\n",
       "      <td>25</td>\n",
       "      <td>No</td>\n",
       "      <td>No</td>\n",
       "      <td>No</td>\n",
       "      <td>Food</td>\n",
       "      <td>Agriculture</td>\n",
       "      <td>1000.0</td>\n",
       "      <td>No</td>\n",
       "      <td>No</td>\n",
       "      <td>MMoney</td>\n",
       "      <td>Yes</td>\n",
       "      <td>8200</td>\n",
       "      <td>No</td>\n",
       "      <td>No</td>\n",
       "      <td>False</td>\n",
       "      <td>No</td>\n",
       "      <td>4</td>\n",
       "    </tr>\n",
       "  </tbody>\n",
       "</table>\n",
       "</div>"
      ],
      "text/plain": [
       "     area  age_of_respondent chronic_illness nhif_usage nssf_usage  \\\n",
       "3   Rural                 29              No         No         No   \n",
       "5   Rural                 35              No         No         No   \n",
       "13  Rural                 30              No         No         No   \n",
       "16  Rural                 17              No         No         No   \n",
       "20  Rural                 25              No         No         No   \n",
       "\n",
       "   most_important_life_goal income_source  avg_mnth_income hse_land_loan  \\\n",
       "3                    Career        Family           9872.0            No   \n",
       "5                    Career   Casual_work           4000.0            No   \n",
       "13                   Health   Agriculture           5000.0            No   \n",
       "16                     Food   Casual_work           2000.0            No   \n",
       "20                     Food   Agriculture           1000.0            No   \n",
       "\n",
       "   securities_use nearest_financial_prod land_house_ownership  \\\n",
       "3             Yes                 MMoney                   No   \n",
       "5              No                 MMoney                  Yes   \n",
       "13             No                 MMoney                   No   \n",
       "16             No                 MMoney                   No   \n",
       "20             No                 MMoney                  Yes   \n",
       "\n",
       "    total_exp_per_month electronic_device motorvehicle_ownership  \\\n",
       "3                 20000                No                     No   \n",
       "5                  5000                No                     No   \n",
       "13                 4000                No                     No   \n",
       "16                 5000                No                     No   \n",
       "20                 8200                No                     No   \n",
       "\n",
       "    livestock_ownership insurance  Clusters  \n",
       "3                 False        No         4  \n",
       "5                  True        No         4  \n",
       "13                 True        No         4  \n",
       "16                 True        No         4  \n",
       "20                False        No         4  "
      ]
     },
     "metadata": {},
     "output_type": "display_data"
    }
   ],
   "source": [
    "cluster_4 = nakuru_df[nakuru_df['Clusters'] == 4]\n",
    "cluster_4.head()"
   ]
  },
  {
   "cell_type": "code",
   "execution_count": null,
   "metadata": {},
   "outputs": [
    {
     "name": "stdout",
     "output_type": "stream",
     "text": [
      "Cluster 0 Profile:\n",
      "Size: 95 customers\n",
      "Top Insurance Products:\n",
      "Recommended_Products\n",
      "[Property Insurance, Retirement Insurance, Basic Insurance Package]                                          45\n",
      "[Property Insurance, Retirement Insurance, Health Insurance, Basic Insurance Package]                        25\n",
      "[Retirement Insurance, Basic Insurance Package]                                                               9\n",
      "[Property Insurance, Basic Insurance Package, Health Insurance, Retirement Insurance, Motor Insurance]        4\n",
      "[Property Insurance, Retirement Insurance, Life Insurance, Health Insurance]                                  3\n",
      "[Retirement Insurance, Health Insurance, Basic Insurance Package]                                             2\n",
      "[Life Insurance, Retirement Insurance]                                                                        2\n",
      "[Property Insurance, Health Insurance, Life Insurance, Retirement Insurance, Motor Insurance]                 2\n",
      "[Motor Insurance, Retirement Insurance, Basic Insurance Package]                                              1\n",
      "[Property Insurance, Motor Insurance, Retirement Insurance, Basic Insurance Package]                          1\n",
      "[Property Insurance, Investment-linked Insurance, Health Insurance, Life Insurance, Retirement Insurance]     1\n",
      "Name: count, dtype: int64\n",
      "Average Income: 8010.0\n",
      "Average Age: 70.0\n",
      "---\n",
      "Cluster 1 Profile:\n",
      "Size: 187 customers\n",
      "Top Insurance Products:\n",
      "Recommended_Products\n",
      "[Basic Insurance Package]                                                             97\n",
      "[Property Insurance, Basic Insurance Package]                                         36\n",
      "[Life Insurance]                                                                      14\n",
      "[Motor Insurance, Basic Insurance Package]                                            11\n",
      "[Health Insurance, Basic Insurance Package]                                            6\n",
      "[Property Insurance, Life Insurance]                                                   6\n",
      "[Property Insurance, Health Insurance, Basic Insurance Package]                        4\n",
      "[Life Insurance, Motor Insurance]                                                      4\n",
      "[Property Insurance, Motor Insurance, Health Insurance, Basic Insurance Package]       2\n",
      "[Motor Insurance, Health Insurance, Basic Insurance Package]                           2\n",
      "[Property Insurance, Motor Insurance, Basic Insurance Package]                         2\n",
      "[Property Insurance, Investment-linked Insurance, Life Insurance, Motor Insurance]     1\n",
      "[Life Insurance, Health Insurance]                                                     1\n",
      "[Property Insurance, Life Insurance, Motor Insurance]                                  1\n",
      "Name: count, dtype: int64\n",
      "Average Income: 10461.0\n",
      "Average Age: 38.0\n",
      "---\n",
      "Cluster 2 Profile:\n",
      "Size: 135 customers\n",
      "Top Insurance Products:\n",
      "Recommended_Products\n",
      "[Property Insurance, Basic Insurance Package]                                                                                 28\n",
      "[Property Insurance, Retirement Insurance, Basic Insurance Package]                                                           21\n",
      "[Retirement Insurance, Basic Insurance Package]                                                                               14\n",
      "[Property Insurance, Retirement Insurance, Health Insurance, Basic Insurance Package]                                         11\n",
      "[Basic Insurance Package]                                                                                                     11\n",
      "[Property Insurance, Life Insurance, Retirement Insurance]                                                                     9\n",
      "[Property Insurance, Life Insurance, Retirement Insurance, Motor Insurance]                                                    6\n",
      "[Property Insurance, Motor Insurance, Basic Insurance Package]                                                                 5\n",
      "[Property Insurance, Investment-linked Insurance, Life Insurance]                                                              3\n",
      "[Health Insurance, Basic Insurance Package]                                                                                    3\n",
      "[Life Insurance]                                                                                                               2\n",
      "[Retirement Insurance, Life Insurance, Health Insurance]                                                                       2\n",
      "[Motor Insurance, Basic Insurance Package]                                                                                     2\n",
      "[Property Insurance, Life Insurance]                                                                                           2\n",
      "[Property Insurance, Retirement Insurance, Life Insurance, Health Insurance]                                                   2\n",
      "[Property Insurance, Basic Insurance Package, Health Insurance, Retirement Insurance, Motor Insurance]                         2\n",
      "[Motor Insurance, Retirement Insurance, Basic Insurance Package]                                                               2\n",
      "[Retirement Insurance, Health Insurance, Basic Insurance Package]                                                              2\n",
      "[Property Insurance, Motor Insurance, Retirement Insurance, Basic Insurance Package]                                           2\n",
      "[Life Insurance, Health Insurance, Motor Insurance]                                                                            1\n",
      "[Property Insurance, Health Insurance, Basic Insurance Package]                                                                1\n",
      "[Property Insurance, Life Insurance, Motor Insurance]                                                                          1\n",
      "[Life Insurance, Motor Insurance]                                                                                              1\n",
      "[Property Insurance, Investment-linked Insurance, Health Insurance, Life Insurance, Retirement Insurance, Motor Insurance]     1\n",
      "[Property Insurance, Investment-linked Insurance, Life Insurance, Retirement Insurance, Motor Insurance]                       1\n",
      "Name: count, dtype: int64\n",
      "Average Income: 13774.0\n",
      "Average Age: 51.0\n",
      "---\n",
      "Cluster 3 Profile:\n",
      "Size: 190 customers\n",
      "Top Insurance Products:\n",
      "Recommended_Products\n",
      "[Basic Insurance Package]                                                           113\n",
      "[Motor Insurance, Basic Insurance Package]                                           20\n",
      "[Life Insurance]                                                                     13\n",
      "[Property Insurance, Basic Insurance Package]                                        12\n",
      "[Health Insurance, Basic Insurance Package]                                          11\n",
      "[Property Insurance, Motor Insurance, Basic Insurance Package]                        8\n",
      "[Life Insurance, Motor Insurance]                                                     4\n",
      "[Property Insurance, Life Insurance]                                                  2\n",
      "[Property Insurance, Life Insurance, Motor Insurance]                                 2\n",
      "[Investment-linked Insurance, Life Insurance]                                         1\n",
      "[Property Insurance, Motor Insurance, Health Insurance, Basic Insurance Package]      1\n",
      "[Investment-linked Insurance, Life Insurance, Motor Insurance]                        1\n",
      "[Motor Insurance, Health Insurance, Basic Insurance Package]                          1\n",
      "[Property Insurance, Health Insurance, Basic Insurance Package]                       1\n",
      "Name: count, dtype: int64\n",
      "Average Income: 9948.0\n",
      "Average Age: 25.0\n",
      "---\n",
      "Cluster 4 Profile:\n",
      "Size: 182 customers\n",
      "Top Insurance Products:\n",
      "Recommended_Products\n",
      "[Basic Insurance Package]                                          69\n",
      "[Property Insurance, Basic Insurance Package]                      55\n",
      "[Property Insurance, Motor Insurance, Basic Insurance Package]     17\n",
      "[Motor Insurance, Basic Insurance Package]                         10\n",
      "[Property Insurance, Life Insurance]                                7\n",
      "[Property Insurance, Health Insurance, Basic Insurance Package]     7\n",
      "[Health Insurance, Basic Insurance Package]                         5\n",
      "[Life Insurance]                                                    4\n",
      "[Motor Insurance, Health Insurance, Basic Insurance Package]        3\n",
      "[Property Insurance, Life Insurance, Motor Insurance]               2\n",
      "[Life Insurance, Motor Insurance]                                   1\n",
      "[Life Insurance, Health Insurance, Motor Insurance]                 1\n",
      "[Property Insurance, Life Insurance, Health Insurance]              1\n",
      "Name: count, dtype: int64\n",
      "Average Income: 7168.0\n",
      "Average Age: 26.0\n",
      "---\n"
     ]
    }
   ],
   "source": [
    "# Add cluster assignments to original data\n",
    "\n",
    "# Create business rules for insurance products\n",
    "def recommend_insurance(df):\n",
    "    cluster_based_products = []\n",
    "    if df['avg_mnth_income'] > 50000:  # High income cluster\n",
    "        cluster_based_products.extend(['Life Insurance', 'Investment-linked Insurance'])\n",
    "    elif df['avg_mnth_income'] > 15000:  # Medium income cluster\n",
    "        cluster_based_products.append('Life Insurance')\n",
    "    else:  # Low income cluster\n",
    "        cluster_based_products.append('Basic Insurance Package')\n",
    "\n",
    "    # Add specific product recommendations based on characteristics\n",
    "    if df['chronic_illness'] == \"Yes\":\n",
    "        cluster_based_products.append(\"Health Insurance\")\n",
    "    if df['motorvehicle_ownership'] == \"Yes\":\n",
    "        cluster_based_products.append(\"Motor Insurance\")\n",
    "    if df['land_house_ownership'] == \"Yes\":\n",
    "        cluster_based_products.append(\"Property Insurance\")\n",
    "    if df['livestock_ownership'] == \"True\":\n",
    "        cluster_based_products.append(\"Livestock Insurance\")\n",
    "    if df['age_of_respondent'] > 50:\n",
    "        cluster_based_products.append(\"Retirement Insurance\")\n",
    "\n",
    "    return list(set(cluster_based_products))\n",
    "\n",
    "# Apply business rules\n",
    "# for index, row in nakuru_dff.iterrows():\n",
    "nakuru_df['Recommended_Products'] = nakuru_df.apply(recommend_insurance, axis=1)\n",
    "\n",
    "# Display cluster insights\n",
    "for cluster in list(set(clusters)):\n",
    "    cluster_data = nakuru_df[nakuru_df['Clusters'] == cluster]\n",
    "    print(f\"\\\n",
    "Cluster {cluster} Profile:\")\n",
    "    print(f\"Size: {len(cluster_data)} customers\")\n",
    "    print(\"Top Insurance Products:\")\n",
    "    print(cluster_data['Recommended_Products'].value_counts())\n",
    "    print(\"Average Income:\", round(cluster_data['avg_mnth_income'].mean(), 0))\n",
    "    print(\"Average Age:\", round(cluster_data['age_of_respondent'].mean(), 0))\n",
    "    print(\"---\")"
   ]
  },
  {
   "cell_type": "code",
   "execution_count": null,
   "metadata": {},
   "outputs": [
    {
     "name": "stdout",
     "output_type": "stream",
     "text": [
      "CV F1 score for K-Prototypes clusters is 0.9403591452261756\n"
     ]
    }
   ],
   "source": [
    "clf_kp = LGBMClassifier()\n",
    "with open(os.devnull, \"w\") as f, contextlib.redirect_stdout(f):\n",
    "    cv_scores_kp = cross_val_score(clf_kp, nakuru_dff, clusters, scoring='f1_weighted')\n",
    "print(f'CV F1 score for K-Prototypes clusters is {np.mean(cv_scores_kp)}')"
   ]
  },
  {
   "cell_type": "code",
   "execution_count": null,
   "metadata": {},
   "outputs": [],
   "source": [
    "with open(os.devnull, \"w\") as f, contextlib.redirect_stdout(f):\n",
    "    classifier = clf_kp.fit(nakuru_dff, clusters)"
   ]
  },
  {
   "cell_type": "code",
   "execution_count": 87,
   "metadata": {},
   "outputs": [
    {
     "data": {
      "text/plain": [
       "['classifier.joblib']"
      ]
     },
     "execution_count": 87,
     "metadata": {},
     "output_type": "execute_result"
    }
   ],
   "source": [
    "joblib.dump(classifier, 'classifier.joblib')"
   ]
  }
 ],
 "metadata": {
  "kernelspec": {
   "display_name": "Analytics-DjangoAPi-0U7lwKUp",
   "language": "python",
   "name": "python3"
  },
  "language_info": {
   "codemirror_mode": {
    "name": "ipython",
    "version": 3
   },
   "file_extension": ".py",
   "mimetype": "text/x-python",
   "name": "python",
   "nbconvert_exporter": "python",
   "pygments_lexer": "ipython3",
   "version": "3.10.12"
  }
 },
 "nbformat": 4,
 "nbformat_minor": 2
}
